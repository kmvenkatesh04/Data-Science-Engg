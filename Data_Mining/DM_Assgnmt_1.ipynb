{
  "nbformat": 4,
  "nbformat_minor": 0,
  "metadata": {
    "colab": {
      "name": "DM Assgnmt 1",
      "provenance": [],
      "collapsed_sections": []
    },
    "kernelspec": {
      "name": "python3",
      "display_name": "Python 3"
    }
  },
  "cells": [
    {
      "cell_type": "code",
      "metadata": {
        "id": "ACH6Y2owkxZG",
        "colab_type": "code",
        "outputId": "3fc0ae49-4c9e-458b-ee86-ca1a42358d59",
        "colab": {
          "base_uri": "https://localhost:8080/",
          "height": 2271
        }
      },
      "source": [
        "import pandas as pd\n",
        "import numpy as np\n",
        "from sklearn import preprocessing\n",
        "import matplotlib.pyplot as plt \n",
        "import csv\n",
        "plt.rc(\"font\", size=10)\n",
        "from sklearn.linear_model import LogisticRegression\n",
        "from sklearn.model_selection import train_test_split\n",
        "import seaborn as sns\n",
        "from imblearn.over_sampling import SMOTE\n",
        "\n",
        "\n",
        "data= pd.read_csv('/content/drive/My Drive/Ticket Data/Airfone_Attrition_Data_file_1.csv')\n",
        "print(data.head())\n",
        "print('\\n',list(data.columns))\n",
        "print('Below are the column details \\n \\n')\n",
        "print(\"active_cust - categorical(1- Active, 0- Attrited) \\n income - Monthly Income of the customer (numeric) \\n expenditure - Expense of a user (numeric) \\n months_on_network - Duration in months, the customer has been a customer of Airfone (numeric) \\n Num_complaints - Number of complaints so far lodged by the customer (numeric) \\n number_plan_changes - How many times the customer changed the plan (numeric) \\n  relocated - categorical(This is relocated indicator, 0- Not relocated, 1 - Relocated) \\n monthly_bill - Monthly bill for the customer (numeric) \\n technical_issues_per_month - Technical issues per month leading to disruption or slow in speed (numeric) \\n Speed_test_result - Internet speed of Airfone (numeric)\")\n",
        "\n",
        "ActiveCustPerc = (len(data[data['active_cust']==1])/len(data['active_cust']))*100\n",
        "print(\"\\n Percent of Active customers stands at {}% \\n\".format(ActiveCustPerc))\n",
        "\n",
        "\n",
        "print('The Data grouped by Mean is below {} \\n \\n'.format(data.groupby('active_cust').mean()))\n",
        "print('The Data grouped by Num_complaints is below {} \\n \\n'.format(data.groupby('Num_complaints').mean()))\n",
        "print('The Data grouped by number_plan_changes is below {} \\n \\n'.format(data.groupby('number_plan_changes').mean()))\n",
        "print('The Data grouped by relocated is below {} \\n \\n'.format(data.groupby('relocated').mean()))\n",
        "\n",
        "q1 = data.quantile(0.25)\n",
        "q3 = data.quantile(0.75)\n",
        "print(data.corr())\n",
        "iqr = q3-q1\n",
        "iqrdata = ((data < (q1 - 3 * iqr)) | (data > (q3 + 3 * iqr)))\n",
        "print('The IQR data for the file uploaded is \\n {} \\n'.format(iqr))\n",
        "data1 = data\n",
        "print('The description of the column is displayed below \\n {} \\n Based on the info, we see that the months on netwok is in negative which we are correcting with IQR method \\n'.format(data['months_on_network'].describe()))\n",
        "sns.boxplot(x=data['income'])\n",
        "data['income'] = np.where(data['income'] > data['income'].quantile(0.98), data['income'].quantile(0.50) , data['income'])\n",
        "print('The outliers are corrected with the median of the column(income) and the updated information for the column is below:\\n',data['income'].describe())"
      ],
      "execution_count": 43,
      "outputs": [
        {
          "output_type": "stream",
          "text": [
            "   active_cust  income  ...  technical_issues_per_month  Speed_test_result\n",
            "0            0    1586  ...                           4                 85\n",
            "1            0    1581  ...                           4                 85\n",
            "2            0    1594  ...                           4                 85\n",
            "3            0    1594  ...                           4                 85\n",
            "4            1    1609  ...                           4                 85\n",
            "\n",
            "[5 rows x 10 columns]\n",
            "\n",
            " ['active_cust', 'income', 'expenditure', 'months_on_network', 'Num_complaints', 'number_plan_changes', 'relocated', 'monthly_bill', 'technical_issues_per_month', 'Speed_test_result']\n",
            "Below are the column details \n",
            " \n",
            "\n",
            "active_cust - categorical(1- Active, 0- Attrited) \n",
            " income - Monthly Income of the customer (numeric) \n",
            " expenditure - Expense of a user (numeric) \n",
            " months_on_network - Duration in months, the customer has been a customer of Airfone (numeric) \n",
            " Num_complaints - Number of complaints so far lodged by the customer (numeric) \n",
            " number_plan_changes - How many times the customer changed the plan (numeric) \n",
            "  relocated - categorical(This is relocated indicator, 0- Not relocated, 1 - Relocated) \n",
            " monthly_bill - Monthly bill for the customer (numeric) \n",
            " technical_issues_per_month - Technical issues per month leading to disruption or slow in speed (numeric) \n",
            " Speed_test_result - Internet speed of Airfone (numeric)\n",
            "\n",
            " Percent of Active customers stands at 57.859% \n",
            "\n",
            "The Data grouped by Mean is below                   income  ...  Speed_test_result\n",
            "active_cust               ...                   \n",
            "0            1851.463658  ...          79.844807\n",
            "1            1858.059438  ...          82.996837\n",
            "\n",
            "[2 rows x 9 columns] \n",
            " \n",
            "\n",
            "The Data grouped by Num_complaints is below                 active_cust  ...  Speed_test_result\n",
            "Num_complaints               ...                   \n",
            "3                  0.687352  ...          82.905582\n",
            "4                  0.583061  ...          81.563777\n",
            "5                  0.413457  ...          82.910137\n",
            "6                  0.104478  ...          79.686567\n",
            "\n",
            "[4 rows x 9 columns] \n",
            " \n",
            "\n",
            "The Data grouped by number_plan_changes is below                      active_cust  ...  Speed_test_result\n",
            "number_plan_changes               ...                   \n",
            "0                       0.582416  ...          81.647928\n",
            "1                       0.799332  ...          82.271599\n",
            "2                       0.533525  ...          81.070117\n",
            "3                       0.287855  ...          81.489891\n",
            "4                       0.061911  ...          81.594886\n",
            "5                       0.049351  ...          81.422078\n",
            "6                       0.039892  ...          82.607167\n",
            "7                       0.018312  ...          80.683917\n",
            "8                       0.052910  ...          82.297619\n",
            "9                       0.037783  ...          81.691436\n",
            "\n",
            "[10 rows x 9 columns] \n",
            " \n",
            "\n",
            "The Data grouped by relocated is below            active_cust  ...  Speed_test_result\n",
            "relocated               ...                   \n",
            "0             0.649215  ...           81.61200\n",
            "1             0.077259  ...           82.06989\n",
            "\n",
            "[2 rows x 9 columns] \n",
            " \n",
            "\n",
            "                            active_cust  ...  Speed_test_result\n",
            "active_cust                    1.000000  ...           0.156385\n",
            "income                         0.001201  ...           0.010451\n",
            "expenditure                   -0.003939  ...           0.015505\n",
            "months_on_network              0.188113  ...           0.020413\n",
            "Num_complaints                -0.083481  ...           0.004148\n",
            "number_plan_changes           -0.283100  ...          -0.009434\n",
            "relocated                     -0.381069  ...           0.015136\n",
            "monthly_bill                  -0.060156  ...          -0.000345\n",
            "technical_issues_per_month    -0.260249  ...          -0.054988\n",
            "Speed_test_result              0.156385  ...           1.000000\n",
            "\n",
            "[10 rows x 10 columns]\n",
            "The IQR data for the file uploaded is \n",
            " active_cust                     1.00\n",
            "income                        233.00\n",
            "expenditure                   245.75\n",
            "months_on_network              23.00\n",
            "Num_complaints                  0.00\n",
            "number_plan_changes             2.00\n",
            "relocated                       0.00\n",
            "monthly_bill                   88.00\n",
            "technical_issues_per_month      1.00\n",
            "Speed_test_result               7.00\n",
            "dtype: float64 \n",
            "\n",
            "The description of the column is displayed below \n",
            " count    100000.000000\n",
            "mean         58.402450\n",
            "std          18.643736\n",
            "min         -20.000000\n",
            "25%          47.000000\n",
            "50%          56.000000\n",
            "75%          70.000000\n",
            "max         449.000000\n",
            "Name: months_on_network, dtype: float64 \n",
            " Based on the info, we see that the months on netwok is in negative which we are correcting with IQR method \n",
            "\n",
            "The outliers are corrected with the median of the column(income) and the updated information for the column is below:\n",
            " count    100000.000000\n",
            "mean       1802.209010\n",
            "std         161.626616\n",
            "min        1130.000000\n",
            "25%        1674.000000\n",
            "50%        1805.000000\n",
            "75%        1896.000000\n",
            "max        2216.000000\n",
            "Name: income, dtype: float64\n"
          ],
          "name": "stdout"
        },
        {
          "output_type": "display_data",
          "data": {
            "image/png": "[encoded data removed]",
            "text/plain": [
              "<Figure size 432x288 with 1 Axes>"
            ]
          },
          "metadata": {
            "tags": []
          }
        }
      ]
    },
    {
      "cell_type": "code",
      "metadata": {
        "id": "Yk-OvaVFp0Ml",
        "colab_type": "code",
        "outputId": "a7405ca6-7ae4-43b7-e136-fb9c4b9bfc4d",
        "colab": {
          "base_uri": "https://localhost:8080/",
          "height": 450
        }
      },
      "source": [
        "sns.boxplot(x=data['Speed_test_result'])\n",
        "data['Speed_test_result'] = np.where(data['Speed_test_result'] > data['Speed_test_result'].quantile(0.98), data['Speed_test_result'].quantile(0.50) , data['Speed_test_result'])\n",
        "print('The outliers are corrected with the median of the column(Speed_test_result) and the updated information for the column is below:\\n',data['Speed_test_result'].describe())"
      ],
      "execution_count": 44,
      "outputs": [
        {
          "output_type": "stream",
          "text": [
            "The outliers are corrected with the median of the column(Speed_test_result) and the updated information for the column is below:\n",
            " count    100000.000000\n",
            "mean         81.225600\n",
            "std           3.752224\n",
            "min          72.000000\n",
            "25%          78.000000\n",
            "50%          81.000000\n",
            "75%          85.000000\n",
            "max          87.000000\n",
            "Name: Speed_test_result, dtype: float64\n"
          ],
          "name": "stdout"
        },
        {
          "output_type": "display_data",
          "data": {
            "image/png": "[encoded data removed]",
            "text/plain": [
              "<Figure size 432x288 with 1 Axes>"
            ]
          },
          "metadata": {
            "tags": []
          }
        }
      ]
    },
    {
      "cell_type": "code",
      "metadata": {
        "id": "CrH1HYH8p9Nt",
        "colab_type": "code",
        "outputId": "0c861b42-25c9-487a-97c5-634d0aa9dfc6",
        "colab": {
          "base_uri": "https://localhost:8080/",
          "height": 674
        }
      },
      "source": [
        "sns.boxplot(x=data['months_on_network'])\n",
        "print('95th percentile on months_on_network is ',data['months_on_network'].quantile(0.95))\n",
        "print('5th percentile on months_on_network is ',data['months_on_network'].quantile(0.05))\n",
        "print('Median of months_on_network is ',data['months_on_network'].quantile(0.50))\n",
        "data['months_on_network'] = np.where(data['months_on_network'] < 26, 56 , data['months_on_network'])\n",
        "data['months_on_network'] = np.where(data['months_on_network'] > data['months_on_network'].quantile(0.98), data['months_on_network'].quantile(0.50) , data['months_on_network'])\n",
        "print('The outliers are corrected with the median of the column(months_on_network) and the updated information for the column is below:\\n',data['months_on_network'].describe())\n",
        "print('Since the income & expenditure are highly correlated, dropping expenditure')\n",
        "\n",
        "x = data.drop(['active_cust','expenditure'],axis=1)\n",
        "y = data[['active_cust']]\n",
        "\n",
        "print('The relevant attributes of building a model is predicted value is {} and the independent variables are {}'.format(list(y.columns),x.columns))\n",
        "\n",
        "x_train, x_test, y_train, y_test = train_test_split(x, y, test_size=0.25, random_state=0)\n",
        "\n",
        "oversample = SMOTE(random_state = 0)\n",
        "x_train, x_test, y_train, y_test = train_test_split(x, y, test_size=0.25, random_state=0)\n",
        "osam_data_x,osam_data_y=oversample.fit_sample(x_train, y_train)\n",
        "collistx = list(x.columns)\n",
        "collisty = list(y.columns)\n",
        "\n",
        "osam_data_x = pd.DataFrame(data=osam_data_x, columns=collistx)\n",
        "osam_data_y = pd.DataFrame(data=osam_data_y, columns=collisty)\n",
        "\n",
        "logregress = LogisticRegression()"
      ],
      "execution_count": 45,
      "outputs": [
        {
          "output_type": "stream",
          "text": [
            "95th percentile on months_on_network is  85.0\n",
            "5th percentile on months_on_network is  33.0\n",
            "Median of months_on_network is  56.0\n",
            "The outliers are corrected with the median of the column(months_on_network) and the updated information for the column is below:\n",
            " count    100000.000000\n",
            "mean         57.657770\n",
            "std          14.848701\n",
            "min          26.000000\n",
            "25%          47.000000\n",
            "50%          56.000000\n",
            "75%          69.000000\n",
            "max          91.000000\n",
            "Name: months_on_network, dtype: float64\n",
            "Since the income & expenditure are highly correlated, dropping expenditure\n",
            "The relevant attributes of building a model is predicted value is ['active_cust'] and the independent variables are Index(['income', 'months_on_network', 'Num_complaints', 'number_plan_changes',\n",
            "       'relocated', 'monthly_bill', 'technical_issues_per_month',\n",
            "       'Speed_test_result'],\n",
            "      dtype='object')\n"
          ],
          "name": "stdout"
        },
        {
          "output_type": "stream",
          "text": [
            "/usr/local/lib/python3.6/dist-packages/sklearn/utils/validation.py:760: DataConversionWarning: A column-vector y was passed when a 1d array was expected. Please change the shape of y to (n_samples, ), for example using ravel().\n",
            "  y = column_or_1d(y, warn=True)\n",
            "/usr/local/lib/python3.6/dist-packages/sklearn/utils/deprecation.py:87: FutureWarning: Function safe_indexing is deprecated; safe_indexing is deprecated in version 0.22 and will be removed in version 0.24.\n",
            "  warnings.warn(msg, category=FutureWarning)\n"
          ],
          "name": "stderr"
        },
        {
          "output_type": "display_data",
          "data": {
            "image/png": "[encoded data removed]",
            "text/plain": [
              "<Figure size 432x288 with 1 Axes>"
            ]
          },
          "metadata": {
            "tags": []
          }
        }
      ]
    },
    {
      "cell_type": "code",
      "metadata": {
        "id": "k_p-qK1xnK5s",
        "colab_type": "code",
        "outputId": "c211bc1c-ab93-476e-8200-dacd8b052beb",
        "colab": {
          "base_uri": "https://localhost:8080/",
          "height": 459
        }
      },
      "source": [
        "import statsmodels.api as sm\n",
        "logit_model=sm.Logit(y,x)\n",
        "result=logit_model.fit(method='newton')\n",
        "print(result.summary2())"
      ],
      "execution_count": 46,
      "outputs": [
        {
          "output_type": "stream",
          "text": [
            "Optimization terminated successfully.\n",
            "         Current function value: 0.497807\n",
            "         Iterations 7\n",
            "                              Results: Logit\n",
            "===========================================================================\n",
            "Model:                  Logit               Pseudo R-squared:    0.269     \n",
            "Dependent Variable:     active_cust         AIC:                 99577.4642\n",
            "Date:                   2020-03-04 07:52    BIC:                 99653.5676\n",
            "No. Observations:       100000              Log-Likelihood:      -49781.   \n",
            "Df Model:               7                   LL-Null:             -68074.   \n",
            "Df Residuals:           99992               LLR p-value:         0.0000    \n",
            "Converged:              1.0000              Scale:               1.0000    \n",
            "No. Iterations:         7.0000                                             \n",
            "---------------------------------------------------------------------------\n",
            "                            Coef.  Std.Err.    z     P>|z|   [0.025  0.975]\n",
            "---------------------------------------------------------------------------\n",
            "income                     -0.0036   0.0001 -46.5182 0.0000 -0.0037 -0.0034\n",
            "months_on_network          -0.0176   0.0011 -16.5083 0.0000 -0.0197 -0.0155\n",
            "Num_complaints             -1.2263   0.0294 -41.7779 0.0000 -1.2839 -1.1688\n",
            "number_plan_changes        -0.2022   0.0076 -26.5301 0.0000 -0.2172 -0.1873\n",
            "relocated                  -3.1202   0.0395 -78.9058 0.0000 -3.1977 -3.0427\n",
            "monthly_bill               -0.0024   0.0002 -15.6566 0.0000 -0.0028 -0.0021\n",
            "technical_issues_per_month -0.4281   0.0073 -58.6891 0.0000 -0.4424 -0.4138\n",
            "Speed_test_result           0.1847   0.0023  80.6304 0.0000  0.1802  0.1892\n",
            "===========================================================================\n",
            "\n"
          ],
          "name": "stdout"
        }
      ]
    },
    {
      "cell_type": "code",
      "metadata": {
        "id": "B5nBlLIrnxhY",
        "colab_type": "code",
        "outputId": "04637b9b-1909-4d88-c2de-19c0768dd409",
        "colab": {
          "base_uri": "https://localhost:8080/",
          "height": 676
        }
      },
      "source": [
        "logregress.fit(x_train, y_train)\n",
        "y_pred = logregress.predict(x_test)\n",
        "print('Accuracy of logistic regression classifier on test set: {:.2f}%'.format(logregress.score(x_test, y_test)*100))\n",
        "from sklearn.metrics import confusion_matrix\n",
        "confusion_matrix = confusion_matrix(y_test, y_pred)\n",
        "print(confusion_matrix)\n",
        "from sklearn.metrics import classification_report\n",
        "print(classification_report(y_test, y_pred))\n",
        "from sklearn.metrics import roc_auc_score\n",
        "from sklearn.metrics import roc_curve\n",
        "logit_roc_auc = roc_auc_score(y_test, logregress.predict(x_test))\n",
        "fpr, tpr, thresholds = roc_curve(y_test, logregress.predict_proba(x_test)[:,1])\n",
        "plt.figure()\n",
        "plt.plot(fpr, tpr, label='Logistic Regression (area = %0.2f)' % logit_roc_auc)\n",
        "plt.plot([0, 1], [0, 1],'r--')"
      ],
      "execution_count": 47,
      "outputs": [
        {
          "output_type": "stream",
          "text": [
            "/usr/local/lib/python3.6/dist-packages/sklearn/utils/validation.py:760: DataConversionWarning: A column-vector y was passed when a 1d array was expected. Please change the shape of y to (n_samples, ), for example using ravel().\n",
            "  y = column_or_1d(y, warn=True)\n"
          ],
          "name": "stderr"
        },
        {
          "output_type": "stream",
          "text": [
            "Accuracy of logistic regression classifier on test set: 74.66%\n",
            "[[ 7313  3341]\n",
            " [ 2995 11351]]\n",
            "              precision    recall  f1-score   support\n",
            "\n",
            "           0       0.71      0.69      0.70     10654\n",
            "           1       0.77      0.79      0.78     14346\n",
            "\n",
            "    accuracy                           0.75     25000\n",
            "   macro avg       0.74      0.74      0.74     25000\n",
            "weighted avg       0.75      0.75      0.75     25000\n",
            "\n"
          ],
          "name": "stdout"
        },
        {
          "output_type": "stream",
          "text": [
            "/usr/local/lib/python3.6/dist-packages/sklearn/linear_model/_logistic.py:940: ConvergenceWarning: lbfgs failed to converge (status=1):\n",
            "STOP: TOTAL NO. of ITERATIONS REACHED LIMIT.\n",
            "\n",
            "Increase the number of iterations (max_iter) or scale the data as shown in:\n",
            "    https://scikit-learn.org/stable/modules/preprocessing.html\n",
            "Please also refer to the documentation for alternative solver options:\n",
            "    https://scikit-learn.org/stable/modules/linear_model.html#logistic-regression\n",
            "  extra_warning_msg=_LOGISTIC_SOLVER_CONVERGENCE_MSG)\n"
          ],
          "name": "stderr"
        },
        {
          "output_type": "execute_result",
          "data": {
            "text/plain": [
              "[<matplotlib.lines.Line2D at 0x7facc299e630>]"
            ]
          },
          "metadata": {
            "tags": []
          },
          "execution_count": 47
        },
        {
          "output_type": "display_data",
          "data": {
            "image/png": "[encoded data removed]",
            "text/plain": [
              "<Figure size 432x288 with 1 Axes>"
            ]
          },
          "metadata": {
            "tags": []
          }
        }
      ]
    },
    {
      "cell_type": "code",
      "metadata": {
        "id": "QyRAcd6LMI4D",
        "colab_type": "code",
        "colab": {}
      },
      "source": [
        "resultsummary = pd.DataFrame(result.summary2().tables[1])\n",
        "\n",
        "type(resultsummary['z'][0])\n",
        "resultsummary['absZ'] = resultsummary.apply(lambda x : abs(x['z']),axis = 1)"
      ],
      "execution_count": 0,
      "outputs": []
    },
    {
      "cell_type": "code",
      "metadata": {
        "id": "U8gWTxcXdKj4",
        "colab_type": "code",
        "colab": {
          "base_uri": "https://localhost:8080/",
          "height": 297
        },
        "outputId": "a2352b88-bb48-4cea-e27f-466bf5dd1efb"
      },
      "source": [
        "resultsummary1 = resultsummary[['absZ']]\n",
        "resultsummary1.sort_values(by=['absZ'],ascending= False)"
      ],
      "execution_count": 49,
      "outputs": [
        {
          "output_type": "execute_result",
          "data": {
            "text/html": [
              "<div>\n",
              "<style scoped>\n",
              "    .dataframe tbody tr th:only-of-type {\n",
              "        vertical-align: middle;\n",
              "    }\n",
              "\n",
              "    .dataframe tbody tr th {\n",
              "        vertical-align: top;\n",
              "    }\n",
              "\n",
              "    .dataframe thead th {\n",
              "        text-align: right;\n",
              "    }\n",
              "</style>\n",
              "<table border=\"1\" class=\"dataframe\">\n",
              "  <thead>\n",
              "    <tr style=\"text-align: right;\">\n",
              "      <th></th>\n",
              "      <th>absZ</th>\n",
              "    </tr>\n",
              "  </thead>\n",
              "  <tbody>\n",
              "    <tr>\n",
              "      <th>Speed_test_result</th>\n",
              "      <td>80.630361</td>\n",
              "    </tr>\n",
              "    <tr>\n",
              "      <th>relocated</th>\n",
              "      <td>78.905753</td>\n",
              "    </tr>\n",
              "    <tr>\n",
              "      <th>technical_issues_per_month</th>\n",
              "      <td>58.689094</td>\n",
              "    </tr>\n",
              "    <tr>\n",
              "      <th>income</th>\n",
              "      <td>46.518221</td>\n",
              "    </tr>\n",
              "    <tr>\n",
              "      <th>Num_complaints</th>\n",
              "      <td>41.777863</td>\n",
              "    </tr>\n",
              "    <tr>\n",
              "      <th>number_plan_changes</th>\n",
              "      <td>26.530114</td>\n",
              "    </tr>\n",
              "    <tr>\n",
              "      <th>months_on_network</th>\n",
              "      <td>16.508265</td>\n",
              "    </tr>\n",
              "    <tr>\n",
              "      <th>monthly_bill</th>\n",
              "      <td>15.656636</td>\n",
              "    </tr>\n",
              "  </tbody>\n",
              "</table>\n",
              "</div>"
            ],
            "text/plain": [
              "                                 absZ\n",
              "Speed_test_result           80.630361\n",
              "relocated                   78.905753\n",
              "technical_issues_per_month  58.689094\n",
              "income                      46.518221\n",
              "Num_complaints              41.777863\n",
              "number_plan_changes         26.530114\n",
              "months_on_network           16.508265\n",
              "monthly_bill                15.656636"
            ]
          },
          "metadata": {
            "tags": []
          },
          "execution_count": 49
        }
      ]
    }
  ]
}