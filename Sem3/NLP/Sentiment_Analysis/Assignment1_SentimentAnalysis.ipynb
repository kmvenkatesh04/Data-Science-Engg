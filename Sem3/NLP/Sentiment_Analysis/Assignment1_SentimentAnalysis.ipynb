{
  "nbformat": 4,
  "nbformat_minor": 0,
  "metadata": {
    "colab": {
      "name": "Welcome To Colaboratory",
      "provenance": [],
      "collapsed_sections": [],
      "include_colab_link": true
    },
    "kernelspec": {
      "display_name": "Python 3",
      "name": "python3"
    }
  },
  "cells": [
    {
      "cell_type": "markdown",
      "metadata": {
        "id": "view-in-github",
        "colab_type": "text"
      },
      "source": [
        "<a href=\"https://colab.research.google.com/github/kmvenkatesh04/Data-Science-Engg/blob/master/Sem3/NLP/Sentiment_Analysis/Assignment1_SentimentAnalysis.ipynb\" target=\"_parent\"><img src=\"https://colab.research.google.com/assets/colab-badge.svg\" alt=\"Open In Colab\"/></a>"
      ]
    },
    {
      "cell_type": "code",
      "metadata": {
        "colab": {
          "base_uri": "https://localhost:8080/"
        },
        "id": "Sb3c-QS4pFd1",
        "outputId": "1c48db62-fa3f-495e-c75c-641b16150703"
      },
      "source": [
        "import numpy as np\n",
        "from sklearn.model_selection import train_test_split\n",
        "from sklearn.pipeline import Pipeline\n",
        "from sklearn.metrics import classification_report\n",
        "from sklearn.feature_extraction.text import CountVectorizer\n",
        "from sklearn.naive_bayes import MultinomialNB\n",
        "from sklearn.metrics import accuracy_score, confusion_matrix, plot_confusion_matrix\n",
        "import seaborn as sns\n",
        "import matplotlib.pyplot as plt\n",
        "import pandas as pd\n",
        "import nltk\n",
        "import spacy\n",
        "from nltk.corpus import stopwords\n",
        "nltk.download('stopwords')\n",
        "nltk.download('punkt')\n",
        "import re\n",
        "from nltk.tokenize import word_tokenize \n",
        "stop_words = set(stopwords.words('english'))\n",
        "nlp=spacy.load('en_core_web_sm')"
      ],
      "execution_count": 42,
      "outputs": [
        {
          "output_type": "stream",
          "text": [
            "[nltk_data] Downloading package stopwords to /root/nltk_data...\n",
            "[nltk_data]   Package stopwords is already up-to-date!\n",
            "[nltk_data] Downloading package punkt to /root/nltk_data...\n",
            "[nltk_data]   Package punkt is already up-to-date!\n"
          ],
          "name": "stdout"
        }
      ]
    },
    {
      "cell_type": "code",
      "metadata": {
        "id": "qz7BGRq9i-is"
      },
      "source": [
        "amazonloc = '/content/amazon_cells_labelled.txt'"
      ],
      "execution_count": null,
      "outputs": []
    },
    {
      "cell_type": "code",
      "metadata": {
        "id": "_HSe2_3Fj3ZW"
      },
      "source": [
        "amazon = pd.read_csv(amazonloc, delimiter = \"\\t\", header = None,names=[\"text\", \"class\"])"
      ],
      "execution_count": 5,
      "outputs": []
    },
    {
      "cell_type": "code",
      "metadata": {
        "id": "e6I24Ybumir6"
      },
      "source": [
        "def PreprocessTxt(textin,lower = True, PunctRem = True, Stopword = True):\n",
        "  if lower == True: #To change the text to lower case\n",
        "    temp = textin.lower()\n",
        "  else:\n",
        "    temp = textin\n",
        "  if PunctRem == True: # To remove punctuations\n",
        "    temp = re.sub(r'[^\\w\\s]', '', temp)\n",
        "  if Stopword == True: #Removing stopwords\n",
        "    word_tokens = word_tokenize(temp)\n",
        "    filtered_sentence = [w for w in word_tokens if not w in stop_words] \n",
        "    textout = ' '.join(filtered_sentence) # Join to make list a sentence\n",
        "  else:\n",
        "    textout = temp\n",
        "  return textout"
      ],
      "execution_count": 6,
      "outputs": []
    },
    {
      "cell_type": "code",
      "metadata": {
        "colab": {
          "base_uri": "https://localhost:8080/",
          "height": 384
        },
        "id": "Zk2QGfTV2oCV",
        "outputId": "36d58623-0300-430d-a337-53ca4c85f93d"
      },
      "source": [
        "fig = plt.figure(figsize=(8,6)) # To check if the class is imbalanced\n",
        "amazon.groupby('class')['text'].count().plot.bar(ylim=0)\n",
        "plt.show()"
      ],
      "execution_count": 8,
      "outputs": [
        {
          "output_type": "display_data",
          "data": {
            "image/png": "[encoded data removed]",
            "text/plain": [
              "<Figure size 576x432 with 1 Axes>"
            ]
          },
          "metadata": {
            "tags": [],
            "needs_background": "light"
          }
        }
      ]
    },
    {
      "cell_type": "code",
      "metadata": {
        "id": "qGvHcs_JsQcr"
      },
      "source": [
        "amazon['CleanTxt'] = amazon.apply(lambda x: PreprocessTxt(x['text']), axis = 1)"
      ],
      "execution_count": 9,
      "outputs": []
    },
    {
      "cell_type": "code",
      "metadata": {
        "id": "g51xZPLwtfZC"
      },
      "source": [
        "X_train, X_test, y_train, y_test = train_test_split(amazon['CleanTxt'], amazon['class'],test_size = 0.35, random_state = 4)\n",
        "mnb = Pipeline([('vect', CountVectorizer()),\n",
        "               ('clf', MultinomialNB()),])"
      ],
      "execution_count": 10,
      "outputs": []
    },
    {
      "cell_type": "code",
      "metadata": {
        "colab": {
          "base_uri": "https://localhost:8080/"
        },
        "id": "13OS_1iruPuQ",
        "outputId": "b52410e3-d9d0-4cbc-b03b-2695f6df66ee"
      },
      "source": [
        "mnb.fit(X_train, y_train)"
      ],
      "execution_count": 11,
      "outputs": [
        {
          "output_type": "execute_result",
          "data": {
            "text/plain": [
              "Pipeline(memory=None,\n",
              "         steps=[('vect',\n",
              "                 CountVectorizer(analyzer='word', binary=False,\n",
              "                                 decode_error='strict',\n",
              "                                 dtype=<class 'numpy.int64'>, encoding='utf-8',\n",
              "                                 input='content', lowercase=True, max_df=1.0,\n",
              "                                 max_features=None, min_df=1,\n",
              "                                 ngram_range=(1, 1), preprocessor=None,\n",
              "                                 stop_words=None, strip_accents=None,\n",
              "                                 token_pattern='(?u)\\\\b\\\\w\\\\w+\\\\b',\n",
              "                                 tokenizer=None, vocabulary=None)),\n",
              "                ('clf',\n",
              "                 MultinomialNB(alpha=1.0, class_prior=None, fit_prior=True))],\n",
              "         verbose=False)"
            ]
          },
          "metadata": {
            "tags": []
          },
          "execution_count": 11
        }
      ]
    },
    {
      "cell_type": "code",
      "metadata": {
        "id": "mi6zuuIjuSFW"
      },
      "source": [
        "y_pred = mnb.predict(X_test)"
      ],
      "execution_count": 12,
      "outputs": []
    },
    {
      "cell_type": "code",
      "metadata": {
        "colab": {
          "base_uri": "https://localhost:8080/"
        },
        "id": "hyxsC2_Mvqxv",
        "outputId": "fef6997e-c958-4b85-9769-3da25d72c2e5"
      },
      "source": [
        "print('accuracy %s' % accuracy_score(y_pred, y_test))\n",
        "print(classification_report(y_test, y_pred))"
      ],
      "execution_count": 13,
      "outputs": [
        {
          "output_type": "stream",
          "text": [
            "accuracy 0.7657142857142857\n",
            "              precision    recall  f1-score   support\n",
            "\n",
            "           0       0.78      0.70      0.74       163\n",
            "           1       0.76      0.82      0.79       187\n",
            "\n",
            "    accuracy                           0.77       350\n",
            "   macro avg       0.77      0.76      0.76       350\n",
            "weighted avg       0.77      0.77      0.76       350\n",
            "\n"
          ],
          "name": "stdout"
        }
      ]
    },
    {
      "cell_type": "code",
      "metadata": {
        "colab": {
          "base_uri": "https://localhost:8080/",
          "height": 296
        },
        "id": "Jgc_J67E0j0c",
        "outputId": "04161df6-a8e7-4344-cdd7-2394e430adf8"
      },
      "source": [
        "plot_confusion_matrix(mnb,X_test,y_test)"
      ],
      "execution_count": 23,
      "outputs": [
        {
          "output_type": "execute_result",
          "data": {
            "text/plain": [
              "<sklearn.metrics._plot.confusion_matrix.ConfusionMatrixDisplay at 0x7f30418d7a10>"
            ]
          },
          "metadata": {
            "tags": []
          },
          "execution_count": 23
        },
        {
          "output_type": "display_data",
          "data": {
            "image/png": "[encoded data removed]",
            "text/plain": [
              "<Figure size 432x288 with 2 Axes>"
            ]
          },
          "metadata": {
            "tags": [],
            "needs_background": "light"
          }
        }
      ]
    },
    {
      "cell_type": "code",
      "metadata": {
        "colab": {
          "base_uri": "https://localhost:8080/",
          "height": 312
        },
        "id": "iru8fu_7xQLO",
        "outputId": "02f55bb2-abfb-4ac1-a405-e475556100ae"
      },
      "source": [
        "cm = confusion_matrix(y_test,y_pred)\n",
        "ax= plt.subplot()\n",
        "sns.heatmap(cm, annot=True,cmap='Blues',ax=ax)\n",
        "ax.set_xlabel('Predicted labels');ax.set_ylabel('True labels'); \n",
        "ax.set_ylim(2.000, 0)\n",
        "ax.set_title('Confusion Matrix')"
      ],
      "execution_count": 19,
      "outputs": [
        {
          "output_type": "execute_result",
          "data": {
            "text/plain": [
              "Text(0.5, 1.0, 'Confusion Matrix')"
            ]
          },
          "metadata": {
            "tags": []
          },
          "execution_count": 19
        },
        {
          "output_type": "display_data",
          "data": {
            "image/png": "[encoded data removed]",
            "text/plain": [
              "<Figure size 432x288 with 2 Axes>"
            ]
          },
          "metadata": {
            "tags": [],
            "needs_background": "light"
          }
        }
      ]
    },
    {
      "cell_type": "code",
      "metadata": {
        "colab": {
          "base_uri": "https://localhost:8080/"
        },
        "id": "ZYA95uCT36wj",
        "outputId": "40811c6d-3b07-48a1-8e6a-c331d2c36cde"
      },
      "source": [
        "for i in amazon['text'][:5]:\n",
        "  print('****************************************************************')\n",
        "  print('\\nparts of speech for \\n\"{}\": \\n{}\\n'.format(i,nltk.pos_tag(word_tokenize(i))))"
      ],
      "execution_count": 38,
      "outputs": [
        {
          "output_type": "stream",
          "text": [
            "****************************************************************\n",
            "\n",
            "parts of speech for \n",
            "\"So there is no way for me to plug it in here in the US unless I go by a converter.\": \n",
            "[('So', 'RB'), ('there', 'EX'), ('is', 'VBZ'), ('no', 'DT'), ('way', 'NN'), ('for', 'IN'), ('me', 'PRP'), ('to', 'TO'), ('plug', 'VB'), ('it', 'PRP'), ('in', 'IN'), ('here', 'RB'), ('in', 'IN'), ('the', 'DT'), ('US', 'NNP'), ('unless', 'IN'), ('I', 'PRP'), ('go', 'VBP'), ('by', 'IN'), ('a', 'DT'), ('converter', 'NN'), ('.', '.')]\n",
            "\n",
            "****************************************************************\n",
            "\n",
            "parts of speech for \n",
            "\"Good case, Excellent value.\": \n",
            "[('Good', 'JJ'), ('case', 'NN'), (',', ','), ('Excellent', 'NNP'), ('value', 'NN'), ('.', '.')]\n",
            "\n",
            "****************************************************************\n",
            "\n",
            "parts of speech for \n",
            "\"Great for the jawbone.\": \n",
            "[('Great', 'NNP'), ('for', 'IN'), ('the', 'DT'), ('jawbone', 'NN'), ('.', '.')]\n",
            "\n",
            "****************************************************************\n",
            "\n",
            "parts of speech for \n",
            "\"Tied to charger for conversations lasting more than 45 minutes.MAJOR PROBLEMS!!\": \n",
            "[('Tied', 'VBN'), ('to', 'TO'), ('charger', 'VB'), ('for', 'IN'), ('conversations', 'NNS'), ('lasting', 'VBG'), ('more', 'JJR'), ('than', 'IN'), ('45', 'CD'), ('minutes.MAJOR', 'JJ'), ('PROBLEMS', 'NNP'), ('!', '.'), ('!', '.')]\n",
            "\n",
            "****************************************************************\n",
            "\n",
            "parts of speech for \n",
            "\"The mic is great.\": \n",
            "[('The', 'DT'), ('mic', 'NN'), ('is', 'VBZ'), ('great', 'JJ'), ('.', '.')]\n",
            "\n"
          ],
          "name": "stdout"
        }
      ]
    },
    {
      "cell_type": "markdown",
      "metadata": {
        "id": "sAJOaAKZ5xH_"
      },
      "source": [
        "Dependency Parser for the text"
      ]
    },
    {
      "cell_type": "code",
      "metadata": {
        "colab": {
          "base_uri": "https://localhost:8080/"
        },
        "id": "79Lhvo3Z4_3k",
        "outputId": "ebee8dc2-1323-40f4-a2c3-d4cd7d422381"
      },
      "source": [
        "text='He sends down flaming oil barrels and ultimately delivers the blow that sends the wildlings retreating by swinging a huge scythe across the Wall, causing the ice to break and sending many falling to their deaths.'\n",
        "\n",
        "for token in nlp(text):\n",
        " print(token.text,'=>',token.dep_,'=>',token.head.text)"
      ],
      "execution_count": 43,
      "outputs": [
        {
          "output_type": "stream",
          "text": [
            "He => nsubj => sends\n",
            "sends => ROOT => sends\n",
            "down => prt => sends\n",
            "flaming => amod => barrels\n",
            "oil => compound => barrels\n",
            "barrels => dobj => sends\n",
            "and => cc => sends\n",
            "ultimately => advmod => delivers\n",
            "delivers => conj => sends\n",
            "the => det => blow\n",
            "blow => dobj => delivers\n",
            "that => nsubj => sends\n",
            "sends => relcl => blow\n",
            "the => det => wildlings\n",
            "wildlings => dobj => sends\n",
            "retreating => advcl => sends\n",
            "by => prep => delivers\n",
            "swinging => pcomp => by\n",
            "a => det => scythe\n",
            "huge => amod => scythe\n",
            "scythe => dobj => swinging\n",
            "across => prep => scythe\n",
            "the => det => Wall\n",
            "Wall => pobj => across\n",
            ", => punct => swinging\n",
            "causing => advcl => swinging\n",
            "the => det => ice\n",
            "ice => nsubj => break\n",
            "to => aux => break\n",
            "break => ccomp => causing\n",
            "and => cc => break\n",
            "sending => conj => break\n",
            "many => dobj => sending\n",
            "falling => dobj => sending\n",
            "to => prep => falling\n",
            "their => poss => deaths\n",
            "deaths => pobj => to\n",
            ". => punct => sends\n"
          ],
          "name": "stdout"
        }
      ]
    }
  ]
}