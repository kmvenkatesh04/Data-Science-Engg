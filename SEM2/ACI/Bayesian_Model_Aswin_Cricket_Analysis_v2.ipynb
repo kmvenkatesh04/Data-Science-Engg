{
  "nbformat": 4,
  "nbformat_minor": 0,
  "metadata": {
    "colab": {
      "name": "Bayesian Model - Aswin - Cricket - Analysis v2",
      "provenance": [],
      "collapsed_sections": [],
      "include_colab_link": true
    },
    "kernelspec": {
      "display_name": "Python 3",
      "name": "python3"
    }
  },
  "cells": [
    {
      "cell_type": "markdown",
      "metadata": {
        "id": "view-in-github",
        "colab_type": "text"
      },
      "source": [
        "<a href=\"https://colab.research.google.com/github/kmvenkatesh04/Data-Science-Engg/blob/master/SEM2/ACI/Bayesian_Model_Aswin_Cricket_Analysis_v2.ipynb\" target=\"_parent\"><img src=\"https://colab.research.google.com/assets/colab-badge.svg\" alt=\"Open In Colab\"/></a>"
      ]
    },
    {
      "cell_type": "markdown",
      "metadata": {
        "id": "-7FF3JufOCZN"
      },
      "source": [
        "Nodes for Bayesian network:\n",
        "\n",
        "*   Test Location (Home, Away)\n",
        "*   Aswin Playing (Yes, No)\n",
        "*   Toss (Win, Loss, Draw)\n",
        "*   Batting (1st, 2nd)\n",
        "*   Result (Win, Loss, Draw)\n"
      ]
    },
    {
      "cell_type": "code",
      "metadata": {
        "id": "4gtG4kC3JNfv"
      },
      "source": [
        "\"\"\"\n",
        "from google.colab import drive\n",
        "drive.mount('/content/drive') \"\"\""
      ],
      "execution_count": null,
      "outputs": []
    },
    {
      "cell_type": "markdown",
      "metadata": {
        "id": "uMMKcVdSK1vi"
      },
      "source": [
        "Install Pomogranate module"
      ]
    },
    {
      "cell_type": "code",
      "metadata": {
        "id": "ssi6ipTDKF_v"
      },
      "source": [
        "!pip install pomegranate"
      ],
      "execution_count": null,
      "outputs": []
    },
    {
      "cell_type": "markdown",
      "metadata": {
        "id": "zw0RDnU6K_1u"
      },
      "source": [
        "Importing necessary modules"
      ]
    },
    {
      "cell_type": "code",
      "metadata": {
        "id": "iSyiVgtiJVIa"
      },
      "source": [
        "import pandas as pd\n",
        "import numpy as np\n",
        "import itertools as it\n",
        "import matplotlib.pyplot as plt\n",
        "import seaborn as sns\n",
        "from pomegranate import *\n",
        "\n",
        "sns.set_style('whitegrid')\n",
        "%matplotlib inline\n"
      ],
      "execution_count": 91,
      "outputs": []
    },
    {
      "cell_type": "markdown",
      "metadata": {
        "id": "BxxTDuphKyqB"
      },
      "source": [
        "Load input data file and get the file info & attributes"
      ]
    },
    {
      "cell_type": "code",
      "metadata": {
        "id": "spCggFbgKwYP",
        "outputId": "941ad69e-5e3b-4e48-c14b-9a76c7146fe2",
        "colab": {
          "base_uri": "https://localhost:8080/",
          "height": 340
        }
      },
      "source": [
        "AswnIndTestData = pd.read_excel('/content/drive/My Drive/ColabDataInputs/India_Test_Stats.xlsx',sheet_name='Sheet1')\n",
        "print('The shape of the data is ',AswnIndTestData.shape)\n",
        "print('The details of the data set are \\n')\n",
        "print(AswnIndTestData.info())"
      ],
      "execution_count": 92,
      "outputs": [
        {
          "output_type": "stream",
          "text": [
            "The shape of the data is  (85, 8)\n",
            "The details of the data set are \n",
            "\n",
            "<class 'pandas.core.frame.DataFrame'>\n",
            "RangeIndex: 85 entries, 0 to 84\n",
            "Data columns (total 8 columns):\n",
            " #   Column      Non-Null Count  Dtype         \n",
            "---  ------      --------------  -----         \n",
            " 0   Ashwin      85 non-null     object        \n",
            " 1   Result      85 non-null     object        \n",
            " 2   Margin      85 non-null     object        \n",
            " 3   Toss        85 non-null     object        \n",
            " 4   Bat         85 non-null     object        \n",
            " 5   Opposition  85 non-null     object        \n",
            " 6   Location    85 non-null     object        \n",
            " 7   Start Date  85 non-null     datetime64[ns]\n",
            "dtypes: datetime64[ns](1), object(7)\n",
            "memory usage: 5.4+ KB\n",
            "None\n"
          ],
          "name": "stdout"
        }
      ]
    },
    {
      "cell_type": "code",
      "metadata": {
        "id": "881xoJPb-9ra"
      },
      "source": [
        "AswnIndTestData[AswnIndTestData.Opposition == 'v Australia'].head()"
      ],
      "execution_count": null,
      "outputs": []
    },
    {
      "cell_type": "code",
      "metadata": {
        "id": "2wJQiNYRatzq"
      },
      "source": [
        "df = AswnIndTestData.copy()"
      ],
      "execution_count": 93,
      "outputs": []
    },
    {
      "cell_type": "markdown",
      "metadata": {
        "id": "wL3zKT3kPqSz"
      },
      "source": [
        "Changing the attribute names in the below fashion\n",
        "\n",
        "*   Test Location - TLoc\n",
        "*   Aswin Playing (Yes, No) - Aswin\n",
        "*   Toss (Win, Loss, Draw) - Toss\n",
        "*   Batting (1st, 2nd) - Bat\n",
        "*   Result (Win, Loss, Draw) - Result"
      ]
    },
    {
      "cell_type": "code",
      "metadata": {
        "id": "n8si3jcdrXf1",
        "outputId": "14956e21-790f-47d5-a89d-7c744fbb5b45",
        "colab": {
          "base_uri": "https://localhost:8080/",
          "height": 86
        }
      },
      "source": [
        "AttribChose = ['Location', 'Ashwin', 'Toss', 'Bat', 'Result']\n",
        "AttribVals = {i:list(AswnIndTestData[i].unique()) for i in AttribChose}\n",
        "AttribInp = {}\n",
        "\n",
        "def getInput(attribval,attrib):\n",
        "  print('**************************************************************\\n')\n",
        "  print('Choose any of the values {} for {}'.format(attribval,attrib))\n",
        "  InputVal = input('')\n",
        "  return InputVal\n",
        "\n",
        "\"\"\"\n",
        "for i in range(len(AttribChose)):\n",
        "  a = getInput(AttribVals[AttribChose[i]],AttribChose[i])\n",
        "  while a not in AttribVals[AttribChose[i]]:\n",
        "    print('You have entered an incorrect option. \\nYou have entered {}.\\nPlease check case and spelling and try againui'.format(a))\n",
        "    a = getInput(AttribVals[AttribChose[i]],AttribChose[i])\n",
        "  AttribInp[AttribChose[i]] = a\n",
        "\n",
        "\"\"\""
      ],
      "execution_count": 94,
      "outputs": [
        {
          "output_type": "execute_result",
          "data": {
            "application/vnd.google.colaboratory.intrinsic+json": {
              "type": "string"
            },
            "text/plain": [
              "\"\\nfor i in range(len(AttribChose)):\\n  a = getInput(AttribVals[AttribChose[i]],AttribChose[i])\\n  while a not in AttribVals[AttribChose[i]]:\\n    print('You have entered an incorrect option. \\nYou have entered {}.\\nPlease check case and spelling and try againui'.format(a))\\n    a = getInput(AttribVals[AttribChose[i]],AttribChose[i])\\n  AttribInp[AttribChose[i]] = a\\n\\n\""
            ]
          },
          "metadata": {
            "tags": []
          },
          "execution_count": 94
        }
      ]
    },
    {
      "cell_type": "code",
      "metadata": {
        "id": "AHKvWx7YzZ52"
      },
      "source": [
        "def getDiscreteProba(df,attrib):\n",
        "  attribcount = df[attrib].value_counts().to_dict()\n",
        "  attribproba = {i:attribcount[i]/sum(attribcount.values()) for i in attribcount.keys()}\n",
        "  #print(attribcount)\n",
        "  return attribproba\n",
        "\n",
        "\n",
        "def filterDF( InputVals , df):\n",
        "  column = list(InputVals.keys())\n",
        "  condition = list(InputVals.values())\n",
        "  equal = ['==' for i in condition]\n",
        "  query = ' & '.join(f'{i} {j} {repr(k)}' for i, j, k in zip(column, equal, condition))\n",
        "  filterdf = df.query(query)\n",
        "  return filterdf\n",
        "\n",
        "\n",
        "def getCondProbab(filtervals,df, SummarAttrib = None, SummarAttribval = None):\n",
        "  if SummarAttrib != None:\n",
        "    tempDF = filterDF(filtervals, df)\n",
        "  else:\n",
        "    print('In else condition',filtervals)\n",
        "    #discretevals = getDiscreteProba(df,filtervals)\n",
        "    #condproblist = discretevals[list(filtervals.values())[0]]\n",
        "    condproblist = getDiscreteProba(df,filtervals) \n",
        "    return condproblist\n",
        "  if len(tempDF) > 0:\n",
        "    TempDFPivt = pd.pivot_table(tempDF,index=[SummarAttrib],values=[list(filtervals.keys())[0]],aggfunc='count')\n",
        "    TempDFPivt.reset_index(inplace = True)\n",
        "    #print(len(TempDFPivt),'\\n',TempDFPivt,'\\n',list(a.keys())[0])\n",
        "    #print('------------------------------------')\n",
        "    TempDFPivt.rename(columns={list(filtervals.keys())[0]:'Count'},inplace = True)\n",
        "    #print(len(TempDFPivt),'\\n',TempDFPivt)\n",
        "    #print('******************************************')\n",
        "    CondProbabAll = {i:int(TempDFPivt[TempDFPivt[SummarAttrib] == i].Count)/sum(list(TempDFPivt['Count'])) for i in list(TempDFPivt[SummarAttrib])}\n",
        "    condproblist = list(filtervals.values())\n",
        "    condproblist.append(SummarAttribval)\n",
        "    if SummarAttribval in CondProbabAll.keys():\n",
        "      condproblist.append(CondProbabAll[SummarAttribval])\n",
        "      #condproblist = condproblist +  CondProbabAll[list(CondprobAttr.values())[0]]\n",
        "      return condproblist\n",
        "    else:\n",
        "      condproblist.append(float(0))\n",
        "      #condproblist1 = list(itertools.chain(*condproblist))\n",
        "      return condproblist\n",
        "  else:\n",
        "    #print('In Else condition')\n",
        "    condproblist = list(filtervals.values())\n",
        "    condproblist.append(SummarAttribval)\n",
        "    condproblist.append(float(0))\n",
        "    return condproblist\n",
        "\n",
        "def CondProbMultiAttr(AttribChoose, df):\n",
        "  CondprobAttrs = {}\n",
        "  AllCombinations = []\n",
        "  for i in range(len(AttribChoose)):\n",
        "    tempAttr = (AttribChoose[:i])\n",
        "    if len(tempAttr) >0:\n",
        "      tempAttrVals = {i:list(df[i].unique()) for i in tempAttr}\n",
        "      #print(AttribChoose[:i], AttribChoose[i])\n",
        "      tempcondattr = {}\n",
        "      tempcondattr[AttribChoose[i]] = df[AttribChoose[i]].unique()\n",
        "      #print('The conditional attribute values ',tempcondattr)\n",
        "      allNames = sorted(tempAttrVals)\n",
        "      keys, values = zip(*tempAttrVals.items())\n",
        "      permutations_dicts = [dict(zip(keys, v)) for v in it.product(*values)]\n",
        "      tempcondprob = []\n",
        "      for j in permutations_dicts:\n",
        "        #print(j)\n",
        "        for k in tempcondattr[AttribChoose[i]]:\n",
        "          #print('***********************************\\nFilter values and the conditional attrib values are ',j,AttribChoose[i],k,'\\n')\n",
        "          #print(getCondProbab(j, df, AttribChoose[i] ,k))\n",
        "          tempcondprob.append(getCondProbab(j, df, AttribChoose[i] ,k))\n",
        "      CondprobAttrs[str(AttribChoose[:i+1])] = tempcondprob\n",
        "  return CondprobAttrs"
      ],
      "execution_count": 153,
      "outputs": []
    },
    {
      "cell_type": "code",
      "metadata": {
        "id": "f2qdnB90H1fs"
      },
      "source": [
        "CondProbMultiAttr(['Location', 'Ashwin', 'Toss', 'Bat','Result'])"
      ],
      "execution_count": null,
      "outputs": []
    },
    {
      "cell_type": "code",
      "metadata": {
        "id": "Vp4TjkM7KhUm",
        "outputId": "6355ab54-a297-4c58-a7c4-9c2d6379369f",
        "colab": {
          "base_uri": "https://localhost:8080/",
          "height": 517
        }
      },
      "source": [
        "from IPython.display import Image\n",
        "Image('/content/drive/My Drive/ColabDataInputs/BBNBat.png',width=500, height=500)"
      ],
      "execution_count": 149,
      "outputs": [
        {
          "output_type": "execute_result",
          "data": {
            "image/png": "[encoded data removed]",
            "text/plain": [
              "<IPython.core.display.Image object>"
            ]
          },
          "metadata": {
            "tags": [],
            "image/png": {
              "width": 500,
              "height": 500
            }
          },
          "execution_count": 149
        }
      ]
    },
    {
      "cell_type": "code",
      "metadata": {
        "id": "ItvUgDCHLJmx",
        "outputId": "4fde5383-ab03-4481-8e49-cd4fad7ecd3f",
        "colab": {
          "base_uri": "https://localhost:8080/",
          "height": 119
        }
      },
      "source": [
        "CondProbMultiAttr(['Bat', 'Result'],df)[\"['Bat', 'Result']\"]\n"
      ],
      "execution_count": 157,
      "outputs": [
        {
          "output_type": "execute_result",
          "data": {
            "text/plain": [
              "[['2nd', 'won', 0.41025641025641024],\n",
              " ['2nd', 'draw', 0.2564102564102564],\n",
              " ['2nd', 'lost', 0.3333333333333333],\n",
              " ['1st', 'won', 0.6739130434782609],\n",
              " ['1st', 'draw', 0.13043478260869565],\n",
              " ['1st', 'lost', 0.1956521739130435]]"
            ]
          },
          "metadata": {
            "tags": []
          },
          "execution_count": 157
        }
      ]
    },
    {
      "cell_type": "code",
      "metadata": {
        "id": "dvREPmiAnJuW"
      },
      "source": [
        "BTLoc = DiscreteDistribution(getDiscreteProba(df,'Location'))\n",
        "BAswin = DiscreteDistribution(getDiscreteProba(df,'Ashwin'))\n",
        "BToss = DiscreteDistribution(getDiscreteProba(df,'Toss'))\n",
        "BBat = ConditionalProbabilityTable(CondProbMultiAttr(['Location', 'Ashwin', 'Toss', 'Bat'],df)[\"['Location', 'Ashwin', 'Toss', 'Bat']\"],[BTLoc, BAswin, BToss ])\n",
        "BResult = ConditionalProbabilityTable(CondProbMultiAttr(['Bat', 'Result'],df)[\"['Bat', 'Result']\"],[BBat])\n",
        "\n",
        "s1 = Node(BTLoc, name=\"BLocation\")\n",
        "s2 = Node(BAswin, name=\"BAswin\")\n",
        "s3 = Node(BToss, name=\"BToss\")\n",
        "s4 = Node(BBat, name=\"BBat\")\n",
        "s5 = Node(BResult, name=\"BResult\")\n",
        "\n",
        "Bmodel = BayesianNetwork(\"Winning probablity of Aswin Playing in the game\")\n",
        "Bmodel.add_states(s1, s2, s3, s4, s5)\n",
        "Bmodel.add_edge(s1, s4)\n",
        "Bmodel.add_edge(s2, s4)\n",
        "Bmodel.add_edge(s3, s4)\n",
        "Bmodel.add_edge(s4, s5)\n",
        "\n",
        "Bmodel.bake()"
      ],
      "execution_count": 178,
      "outputs": []
    },
    {
      "cell_type": "code",
      "metadata": {
        "id": "ExriH3c0j8tV",
        "outputId": "b43ff0c8-a477-4294-f31a-9e668682c9a4",
        "colab": {
          "base_uri": "https://localhost:8080/",
          "height": 663
        }
      },
      "source": [
        "Bmodel.predict_proba([{'BAswin': 'Y', 'BLocation': 'Away'}])"
      ],
      "execution_count": 179,
      "outputs": [
        {
          "output_type": "execute_result",
          "data": {
            "text/plain": [
              "[array(['Away', 'Y',\n",
              "        {\n",
              "     \"class\" : \"Distribution\",\n",
              "     \"dtype\" : \"str\",\n",
              "     \"name\" : \"DiscreteDistribution\",\n",
              "     \"parameters\" : [\n",
              "         {\n",
              "             \"lost\" : 0.5294117647058821,\n",
              "             \"won\" : 0.47058823529411775\n",
              "         }\n",
              "     ],\n",
              "     \"frozen\" : false\n",
              " },\n",
              "        {\n",
              "     \"class\" : \"Distribution\",\n",
              "     \"dtype\" : \"str\",\n",
              "     \"name\" : \"DiscreteDistribution\",\n",
              "     \"parameters\" : [\n",
              "         {\n",
              "             \"2nd\" : 0.36397058823529416,\n",
              "             \"1st\" : 0.636029411764706\n",
              "         }\n",
              "     ],\n",
              "     \"frozen\" : false\n",
              " },\n",
              "        {\n",
              "     \"class\" : \"Distribution\",\n",
              "     \"dtype\" : \"str\",\n",
              "     \"name\" : \"DiscreteDistribution\",\n",
              "     \"parameters\" : [\n",
              "         {\n",
              "             \"draw\" : 0.17628614991146968,\n",
              "             \"lost\" : 0.24576406649616375,\n",
              "             \"won\" : 0.5779497835923666\n",
              "         }\n",
              "     ],\n",
              "     \"frozen\" : false\n",
              " }], dtype=object)]"
            ]
          },
          "metadata": {
            "tags": []
          },
          "execution_count": 179
        }
      ]
    },
    {
      "cell_type": "code",
      "metadata": {
        "id": "37Mqz9ReMUGF",
        "outputId": "9053d915-6491-4981-dbdb-492c5c21f4bd",
        "colab": {
          "base_uri": "https://localhost:8080/",
          "height": 517
        }
      },
      "source": [
        "from IPython.display import Image\n",
        "Image('/content/drive/My Drive/ColabDataInputs/BBNResult.png',width=500, height=500)"
      ],
      "execution_count": 162,
      "outputs": [
        {
          "output_type": "execute_result",
          "data": {
            "image/png": "[encoded data removed]",
            "text/plain": [
              "<IPython.core.display.Image object>"
            ]
          },
          "metadata": {
            "tags": [],
            "image/png": {
              "width": 500,
              "height": 500
            }
          },
          "execution_count": 162
        }
      ]
    },
    {
      "cell_type": "code",
      "metadata": {
        "id": "Kqxa2kH9MuZd"
      },
      "source": [
        "CondProbMultiAttr(['Ashwin','Bat', 'Location','Result'],df)[\"['Ashwin', 'Bat', 'Location', 'Result']\"]"
      ],
      "execution_count": null,
      "outputs": []
    },
    {
      "cell_type": "code",
      "metadata": {
        "id": "-6sHA25eMT2T"
      },
      "source": [
        "RToss = DiscreteDistribution(getDiscreteProba(df,'Toss'))\n",
        "RAswin = DiscreteDistribution(getDiscreteProba(df,'Ashwin'))\n",
        "RTLoc = DiscreteDistribution(getDiscreteProba(df,'Location'))\n",
        "RBat = ConditionalProbabilityTable(CondProbMultiAttr(['Toss', 'Bat'],df)[\"['Toss', 'Bat']\"],[RToss])\n",
        "RResult = ConditionalProbabilityTable(CondProbMultiAttr(['Ashwin','Bat', 'Location','Result'],df)[\"['Ashwin', 'Bat', 'Location', 'Result']\"],[RAswin,RBat,RTLoc])\n",
        "\n",
        "s1 = Node(RToss, name=\"RToss\")\n",
        "s2 = Node(RAswin, name=\"RAswin\")\n",
        "s3 = Node(RTLoc, name=\"RTLoc\")\n",
        "s4 = Node(RBat, name=\"RBat\")\n",
        "s5 = Node(RResult, name=\"RResult\")\n",
        "\n",
        "Rmodel = BayesianNetwork(\"Winning probablity of Aswin Playing in the game - 2\")\n",
        "Rmodel.add_states(s1, s2, s3, s4, s5)\n",
        "Rmodel.add_edge(s1, s4)\n",
        "Rmodel.add_edge(s2, s5)\n",
        "Rmodel.add_edge(s3, s5)\n",
        "Rmodel.add_edge(s4, s5)\n",
        "\n",
        "Rmodel.bake()"
      ],
      "execution_count": 185,
      "outputs": []
    },
    {
      "cell_type": "code",
      "metadata": {
        "id": "FQAXvNRlxheV",
        "outputId": "2cf4129d-444d-44b8-f54e-56447b5acc80",
        "colab": {
          "base_uri": "https://localhost:8080/",
          "height": 663
        }
      },
      "source": [
        "Rmodel.predict_proba([{'RAswin': 'Y', 'RTLoc': 'Away'}])"
      ],
      "execution_count": 187,
      "outputs": [
        {
          "output_type": "execute_result",
          "data": {
            "text/plain": [
              "[array([{\n",
              "     \"class\" : \"Distribution\",\n",
              "     \"dtype\" : \"str\",\n",
              "     \"name\" : \"DiscreteDistribution\",\n",
              "     \"parameters\" : [\n",
              "         {\n",
              "             \"lost\" : 0.5294117647058824,\n",
              "             \"won\" : 0.47058823529411764\n",
              "         }\n",
              "     ],\n",
              "     \"frozen\" : false\n",
              " },\n",
              "        'Y', 'Away',\n",
              "        {\n",
              "     \"class\" : \"Distribution\",\n",
              "     \"dtype\" : \"str\",\n",
              "     \"name\" : \"DiscreteDistribution\",\n",
              "     \"parameters\" : [\n",
              "         {\n",
              "             \"2nd\" : 0.4588235294117648,\n",
              "             \"1st\" : 0.5411764705882354\n",
              "         }\n",
              "     ],\n",
              "     \"frozen\" : false\n",
              " },\n",
              "        {\n",
              "     \"class\" : \"Distribution\",\n",
              "     \"dtype\" : \"str\",\n",
              "     \"name\" : \"DiscreteDistribution\",\n",
              "     \"parameters\" : [\n",
              "         {\n",
              "             \"draw\" : 0.23449197860962576,\n",
              "             \"lost\" : 0.46109625668449195,\n",
              "             \"won\" : 0.3044117647058823\n",
              "         }\n",
              "     ],\n",
              "     \"frozen\" : false\n",
              " }], dtype=object)]"
            ]
          },
          "metadata": {
            "tags": []
          },
          "execution_count": 187
        }
      ]
    },
    {
      "cell_type": "code",
      "metadata": {
        "id": "ASgE2rpbQHcV",
        "outputId": "e411c7b6-27ce-498f-bf89-472e1e62e28d",
        "colab": {
          "base_uri": "https://localhost:8080/",
          "height": 517
        }
      },
      "source": [
        "from IPython.display import Image\n",
        "Image('/content/drive/My Drive/ColabDataInputs/BBNSequen.png',width=500, height=500)"
      ],
      "execution_count": 188,
      "outputs": [
        {
          "output_type": "execute_result",
          "data": {
            "image/png": "[encoded data removed]",
            "text/plain": [
              "<IPython.core.display.Image object>"
            ]
          },
          "metadata": {
            "tags": [],
            "image/png": {
              "width": 500,
              "height": 500
            }
          },
          "execution_count": 188
        }
      ]
    },
    {
      "cell_type": "code",
      "metadata": {
        "id": "0-V7IRI_QVUT"
      },
      "source": [
        "CondProbMultiAttr(['Bat','Result'],df)[\"['Bat', 'Result']\"]"
      ],
      "execution_count": null,
      "outputs": []
    },
    {
      "cell_type": "code",
      "metadata": {
        "id": "cKUfoBdSP5We"
      },
      "source": [
        "STLoc = DiscreteDistribution(getDiscreteProba(df,'Location'))\n",
        "SAswin = ConditionalProbabilityTable(CondProbMultiAttr(['Location','Ashwin'],df)[\"['Location', 'Ashwin']\"],[STLoc])\n",
        "SToss = ConditionalProbabilityTable(CondProbMultiAttr(['Ashwin','Toss'],df)[\"['Ashwin', 'Toss']\"],[SAswin])\n",
        "SBat = ConditionalProbabilityTable(CondProbMultiAttr(['Toss','Bat'],df)[\"['Toss', 'Bat']\"],[SToss])\n",
        "SResult = ConditionalProbabilityTable(CondProbMultiAttr(['Bat','Result'],df)[\"['Bat', 'Result']\"],[SBat])\n",
        "\n",
        "s1 = Node(STLoc, name=\"STLoc\")\n",
        "s2 = Node(SAswin, name=\"SAswin\")\n",
        "s3 = Node(SToss, name=\"SToss\")\n",
        "s4 = Node(SBat, name=\"SBat\")\n",
        "s5 = Node(SResult, name=\"SResult\")\n",
        "\n",
        "Smodel = BayesianNetwork(\"Winning probablity of Aswin Playing in the game - 3\")\n",
        "Smodel.add_states(s1, s2, s3, s4, s5)\n",
        "Smodel.add_edge(s1, s2)\n",
        "Smodel.add_edge(s2, s3)\n",
        "Smodel.add_edge(s3, s4)\n",
        "Smodel.add_edge(s4, s5)\n",
        "\n",
        "Smodel.bake()"
      ],
      "execution_count": 201,
      "outputs": []
    },
    {
      "cell_type": "code",
      "metadata": {
        "id": "Ph9xtpFdR1vH",
        "outputId": "4a355642-06f8-4049-d37a-a9ef11916dc6",
        "colab": {
          "base_uri": "https://localhost:8080/",
          "height": 663
        }
      },
      "source": [
        "Smodel.predict_proba([{'SAswin': 'Y', 'STLoc': 'Away'}])"
      ],
      "execution_count": 202,
      "outputs": [
        {
          "output_type": "execute_result",
          "data": {
            "text/plain": [
              "[array(['Away', 'Y',\n",
              "        {\n",
              "     \"class\" : \"Distribution\",\n",
              "     \"dtype\" : \"str\",\n",
              "     \"name\" : \"DiscreteDistribution\",\n",
              "     \"parameters\" : [\n",
              "         {\n",
              "             \"lost\" : 0.5285714285714286,\n",
              "             \"won\" : 0.4714285714285715\n",
              "         }\n",
              "     ],\n",
              "     \"frozen\" : false\n",
              " },\n",
              "        {\n",
              "     \"class\" : \"Distribution\",\n",
              "     \"dtype\" : \"str\",\n",
              "     \"name\" : \"DiscreteDistribution\",\n",
              "     \"parameters\" : [\n",
              "         {\n",
              "             \"2nd\" : 0.4582539682539684,\n",
              "             \"1st\" : 0.5417460317460318\n",
              "         }\n",
              "     ],\n",
              "     \"frozen\" : false\n",
              " },\n",
              "        {\n",
              "     \"class\" : \"Distribution\",\n",
              "     \"dtype\" : \"str\",\n",
              "     \"name\" : \"DiscreteDistribution\",\n",
              "     \"parameters\" : [\n",
              "         {\n",
              "             \"draw\" : 0.18816354338093474,\n",
              "             \"lost\" : 0.2587451115711986,\n",
              "             \"won\" : 0.5530913450478667\n",
              "         }\n",
              "     ],\n",
              "     \"frozen\" : false\n",
              " }], dtype=object)]"
            ]
          },
          "metadata": {
            "tags": []
          },
          "execution_count": 202
        }
      ]
    },
    {
      "cell_type": "markdown",
      "metadata": {
        "id": "A49fehwWSOJK"
      },
      "source": [
        "**Probability predictions with all the 3 Belief networks**"
      ]
    },
    {
      "cell_type": "markdown",
      "metadata": {
        "id": "EZ5Ho0OKVbjD"
      },
      "source": [
        "*   India winning, batting 2nd, Ashwin playing\n",
        "*   India winning, batting 2nd, Ashwin not playing\n",
        "*   India losing, batting 2nd, Ashwin playing\n",
        "*   India losing, batting 2nd, Ashwin not playing\n",
        "\n"
      ]
    },
    {
      "cell_type": "code",
      "metadata": {
        "id": "PELJiU4QSavo",
        "outputId": "f159c7e4-3fa9-4b94-f4e9-3376beaacbef",
        "colab": {
          "base_uri": "https://localhost:8080/",
          "height": 1000
        }
      },
      "source": [
        "a,b,c,d = ['won','2nd','Y'], ['won','2nd','N'], ['lost','2nd','Y'], ['lost','2nd','N']\n",
        "for i in [a,b,c,d]:\n",
        "  print('\\n With Belief network dependent on Batting Node \\n')\n",
        "  print(Bmodel.predict_proba([{'BResult' : i[0], 'BBat' : i[1], 'BAswin' : i[2]}]))\n",
        "  print('\\n With Belief network dependent on Result Node\\n')\n",
        "  print(Rmodel.predict_proba([{'RResult' : i[0], 'RBat' : i[1], 'RAswin' : i[2]}]))\n",
        "  print('\\nWith Belief network in Sequential Approach\\n')\n",
        "  print(Smodel.predict_proba([{'SResult' : i[0], 'SBat' : i[1], 'SAswin' : i[2]}]))\n",
        "  print('\\n==========================================================================================\\n')"
      ],
      "execution_count": 209,
      "outputs": [
        {
          "output_type": "stream",
          "text": [
            "\n",
            " With Belief network dependent on Batting Node \n",
            "\n",
            "[array([{\n",
            "    \"class\" : \"Distribution\",\n",
            "    \"dtype\" : \"str\",\n",
            "    \"name\" : \"DiscreteDistribution\",\n",
            "    \"parameters\" : [\n",
            "        {\n",
            "            \"Home\" : 0.6060823796036783,\n",
            "            \"Away\" : 0.3939176203963218\n",
            "        }\n",
            "    ],\n",
            "    \"frozen\" : false\n",
            "},\n",
            "       'Y',\n",
            "       {\n",
            "    \"class\" : \"Distribution\",\n",
            "    \"dtype\" : \"str\",\n",
            "    \"name\" : \"DiscreteDistribution\",\n",
            "    \"parameters\" : [\n",
            "        {\n",
            "            \"lost\" : 0.9525969088578127,\n",
            "            \"won\" : 0.04740309114218729\n",
            "        }\n",
            "    ],\n",
            "    \"frozen\" : false\n",
            "},\n",
            "       '2nd', 'won'], dtype=object)]\n",
            "\n",
            " With Belief network dependent on Result Node\n",
            "\n",
            "[array([{\n",
            "    \"class\" : \"Distribution\",\n",
            "    \"dtype\" : \"str\",\n",
            "    \"name\" : \"DiscreteDistribution\",\n",
            "    \"parameters\" : [\n",
            "        {\n",
            "            \"lost\" : 0.8974358974358972,\n",
            "            \"won\" : 0.10256410256410273\n",
            "        }\n",
            "    ],\n",
            "    \"frozen\" : false\n",
            "},\n",
            "       'Y',\n",
            "       {\n",
            "    \"class\" : \"Distribution\",\n",
            "    \"dtype\" : \"str\",\n",
            "    \"name\" : \"DiscreteDistribution\",\n",
            "    \"parameters\" : [\n",
            "        {\n",
            "            \"Home\" : 1.0,\n",
            "            \"Away\" : 0.0\n",
            "        }\n",
            "    ],\n",
            "    \"frozen\" : false\n",
            "},\n",
            "       '2nd', 'won'], dtype=object)]\n",
            "\n",
            "With Belief network in Sequential Approach\n",
            "\n",
            "[array([{\n",
            "    \"class\" : \"Distribution\",\n",
            "    \"dtype\" : \"str\",\n",
            "    \"name\" : \"DiscreteDistribution\",\n",
            "    \"parameters\" : [\n",
            "        {\n",
            "            \"Home\" : 0.6142857142857142,\n",
            "            \"Away\" : 0.3857142857142858\n",
            "        }\n",
            "    ],\n",
            "    \"frozen\" : false\n",
            "},\n",
            "       'Y',\n",
            "       {\n",
            "    \"class\" : \"Distribution\",\n",
            "    \"dtype\" : \"str\",\n",
            "    \"name\" : \"DiscreteDistribution\",\n",
            "    \"parameters\" : [\n",
            "        {\n",
            "            \"lost\" : 0.8971250432975405,\n",
            "            \"won\" : 0.10287495670245947\n",
            "        }\n",
            "    ],\n",
            "    \"frozen\" : false\n",
            "},\n",
            "       '2nd', 'won'], dtype=object)]\n",
            "\n",
            "==========================================================================================\n",
            "\n",
            "\n",
            " With Belief network dependent on Batting Node \n",
            "\n",
            "[array([{\n",
            "    \"class\" : \"Distribution\",\n",
            "    \"dtype\" : \"str\",\n",
            "    \"name\" : \"DiscreteDistribution\",\n",
            "    \"parameters\" : [\n",
            "        {\n",
            "            \"Home\" : 0.0,\n",
            "            \"Away\" : 1.0\n",
            "        }\n",
            "    ],\n",
            "    \"frozen\" : false\n",
            "},\n",
            "       'N',\n",
            "       {\n",
            "    \"class\" : \"Distribution\",\n",
            "    \"dtype\" : \"str\",\n",
            "    \"name\" : \"DiscreteDistribution\",\n",
            "    \"parameters\" : [\n",
            "        {\n",
            "            \"lost\" : 0.663157894736842,\n",
            "            \"won\" : 0.33684210526315794\n",
            "        }\n",
            "    ],\n",
            "    \"frozen\" : false\n",
            "},\n",
            "       '2nd', 'won'], dtype=object)]\n",
            "\n",
            " With Belief network dependent on Result Node\n",
            "\n",
            "[array([{\n",
            "    \"class\" : \"Distribution\",\n",
            "    \"dtype\" : \"str\",\n",
            "    \"name\" : \"DiscreteDistribution\",\n",
            "    \"parameters\" : [\n",
            "        {\n",
            "            \"lost\" : 0.5294117647058824,\n",
            "            \"won\" : 0.47058823529411764\n",
            "        }\n",
            "    ],\n",
            "    \"frozen\" : false\n",
            "},\n",
            "       'N',\n",
            "       {\n",
            "    \"class\" : \"Distribution\",\n",
            "    \"dtype\" : \"str\",\n",
            "    \"name\" : \"DiscreteDistribution\",\n",
            "    \"parameters\" : [\n",
            "        {\n",
            "            \"Home\" : 0.5058823529411764,\n",
            "            \"Away\" : 0.49411764705882355\n",
            "        }\n",
            "    ],\n",
            "    \"frozen\" : false\n",
            "},\n",
            "       '2nd', 'won'], dtype=object)]\n",
            "\n",
            "With Belief network in Sequential Approach\n",
            "\n",
            "[array([{\n",
            "    \"class\" : \"Distribution\",\n",
            "    \"dtype\" : \"str\",\n",
            "    \"name\" : \"DiscreteDistribution\",\n",
            "    \"parameters\" : [\n",
            "        {\n",
            "            \"Home\" : 0.0,\n",
            "            \"Away\" : 1.0\n",
            "        }\n",
            "    ],\n",
            "    \"frozen\" : false\n",
            "},\n",
            "       'N',\n",
            "       {\n",
            "    \"class\" : \"Distribution\",\n",
            "    \"dtype\" : \"str\",\n",
            "    \"name\" : \"DiscreteDistribution\",\n",
            "    \"parameters\" : [\n",
            "        {\n",
            "            \"lost\" : 0.8988764044943818,\n",
            "            \"won\" : 0.10112359550561814\n",
            "        }\n",
            "    ],\n",
            "    \"frozen\" : false\n",
            "},\n",
            "       '2nd', 'won'], dtype=object)]\n",
            "\n",
            "==========================================================================================\n",
            "\n",
            "\n",
            " With Belief network dependent on Batting Node \n",
            "\n",
            "[array([{\n",
            "    \"class\" : \"Distribution\",\n",
            "    \"dtype\" : \"str\",\n",
            "    \"name\" : \"DiscreteDistribution\",\n",
            "    \"parameters\" : [\n",
            "        {\n",
            "            \"Home\" : 0.6060823796036783,\n",
            "            \"Away\" : 0.3939176203963218\n",
            "        }\n",
            "    ],\n",
            "    \"frozen\" : false\n",
            "},\n",
            "       'Y',\n",
            "       {\n",
            "    \"class\" : \"Distribution\",\n",
            "    \"dtype\" : \"str\",\n",
            "    \"name\" : \"DiscreteDistribution\",\n",
            "    \"parameters\" : [\n",
            "        {\n",
            "            \"lost\" : 0.9525969088578127,\n",
            "            \"won\" : 0.04740309114218729\n",
            "        }\n",
            "    ],\n",
            "    \"frozen\" : false\n",
            "},\n",
            "       '2nd', 'lost'], dtype=object)]\n",
            "\n",
            " With Belief network dependent on Result Node\n",
            "\n",
            "[array([{\n",
            "    \"class\" : \"Distribution\",\n",
            "    \"dtype\" : \"str\",\n",
            "    \"name\" : \"DiscreteDistribution\",\n",
            "    \"parameters\" : [\n",
            "        {\n",
            "            \"lost\" : 0.8974358974358972,\n",
            "            \"won\" : 0.10256410256410273\n",
            "        }\n",
            "    ],\n",
            "    \"frozen\" : false\n",
            "},\n",
            "       'Y',\n",
            "       {\n",
            "    \"class\" : \"Distribution\",\n",
            "    \"dtype\" : \"str\",\n",
            "    \"name\" : \"DiscreteDistribution\",\n",
            "    \"parameters\" : [\n",
            "        {\n",
            "            \"Home\" : 0.06814580031695743,\n",
            "            \"Away\" : 0.9318541996830426\n",
            "        }\n",
            "    ],\n",
            "    \"frozen\" : false\n",
            "},\n",
            "       '2nd', 'lost'], dtype=object)]\n",
            "\n",
            "With Belief network in Sequential Approach\n",
            "\n",
            "[array([{\n",
            "    \"class\" : \"Distribution\",\n",
            "    \"dtype\" : \"str\",\n",
            "    \"name\" : \"DiscreteDistribution\",\n",
            "    \"parameters\" : [\n",
            "        {\n",
            "            \"Home\" : 0.6142857142857142,\n",
            "            \"Away\" : 0.3857142857142858\n",
            "        }\n",
            "    ],\n",
            "    \"frozen\" : false\n",
            "},\n",
            "       'Y',\n",
            "       {\n",
            "    \"class\" : \"Distribution\",\n",
            "    \"dtype\" : \"str\",\n",
            "    \"name\" : \"DiscreteDistribution\",\n",
            "    \"parameters\" : [\n",
            "        {\n",
            "            \"lost\" : 0.8971250432975405,\n",
            "            \"won\" : 0.10287495670245947\n",
            "        }\n",
            "    ],\n",
            "    \"frozen\" : false\n",
            "},\n",
            "       '2nd', 'lost'], dtype=object)]\n",
            "\n",
            "==========================================================================================\n",
            "\n",
            "\n",
            " With Belief network dependent on Batting Node \n",
            "\n",
            "[array([{\n",
            "    \"class\" : \"Distribution\",\n",
            "    \"dtype\" : \"str\",\n",
            "    \"name\" : \"DiscreteDistribution\",\n",
            "    \"parameters\" : [\n",
            "        {\n",
            "            \"Home\" : 0.0,\n",
            "            \"Away\" : 1.0\n",
            "        }\n",
            "    ],\n",
            "    \"frozen\" : false\n",
            "},\n",
            "       'N',\n",
            "       {\n",
            "    \"class\" : \"Distribution\",\n",
            "    \"dtype\" : \"str\",\n",
            "    \"name\" : \"DiscreteDistribution\",\n",
            "    \"parameters\" : [\n",
            "        {\n",
            "            \"lost\" : 0.663157894736842,\n",
            "            \"won\" : 0.33684210526315794\n",
            "        }\n",
            "    ],\n",
            "    \"frozen\" : false\n",
            "},\n",
            "       '2nd', 'lost'], dtype=object)]\n",
            "\n",
            " With Belief network dependent on Result Node\n",
            "\n",
            "[array([{\n",
            "    \"class\" : \"Distribution\",\n",
            "    \"dtype\" : \"str\",\n",
            "    \"name\" : \"DiscreteDistribution\",\n",
            "    \"parameters\" : [\n",
            "        {\n",
            "            \"lost\" : 0.8974358974358972,\n",
            "            \"won\" : 0.10256410256410273\n",
            "        }\n",
            "    ],\n",
            "    \"frozen\" : false\n",
            "},\n",
            "       'N',\n",
            "       {\n",
            "    \"class\" : \"Distribution\",\n",
            "    \"dtype\" : \"str\",\n",
            "    \"name\" : \"DiscreteDistribution\",\n",
            "    \"parameters\" : [\n",
            "        {\n",
            "            \"Home\" : 0.0,\n",
            "            \"Away\" : 1.0\n",
            "        }\n",
            "    ],\n",
            "    \"frozen\" : false\n",
            "},\n",
            "       '2nd', 'lost'], dtype=object)]\n",
            "\n",
            "With Belief network in Sequential Approach\n",
            "\n",
            "[array([{\n",
            "    \"class\" : \"Distribution\",\n",
            "    \"dtype\" : \"str\",\n",
            "    \"name\" : \"DiscreteDistribution\",\n",
            "    \"parameters\" : [\n",
            "        {\n",
            "            \"Home\" : 0.0,\n",
            "            \"Away\" : 1.0\n",
            "        }\n",
            "    ],\n",
            "    \"frozen\" : false\n",
            "},\n",
            "       'N',\n",
            "       {\n",
            "    \"class\" : \"Distribution\",\n",
            "    \"dtype\" : \"str\",\n",
            "    \"name\" : \"DiscreteDistribution\",\n",
            "    \"parameters\" : [\n",
            "        {\n",
            "            \"lost\" : 0.8988764044943818,\n",
            "            \"won\" : 0.10112359550561814\n",
            "        }\n",
            "    ],\n",
            "    \"frozen\" : false\n",
            "},\n",
            "       '2nd', 'lost'], dtype=object)]\n",
            "\n",
            "==========================================================================================\n",
            "\n"
          ],
          "name": "stdout"
        }
      ]
    }
  ]
}