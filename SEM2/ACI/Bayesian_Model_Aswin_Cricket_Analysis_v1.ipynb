{
  "nbformat": 4,
  "nbformat_minor": 0,
  "metadata": {
    "colab": {
      "name": "Bayesian Model - Aswin - Cricket - Analysis",
      "provenance": [],
      "collapsed_sections": [],
      "include_colab_link": true
    },
    "kernelspec": {
      "display_name": "Python 3",
      "name": "python3"
    }
  },
  "cells": [
    {
      "cell_type": "markdown",
      "metadata": {
        "id": "view-in-github",
        "colab_type": "text"
      },
      "source": [
        "<a href=\"https://colab.research.google.com/github/kmvenkatesh04/Data-Science-Engg/blob/master/SEM2/ACI/Bayesian_Model_Aswin_Cricket_Analysis_v1.ipynb\" target=\"_parent\"><img src=\"https://colab.research.google.com/assets/colab-badge.svg\" alt=\"Open In Colab\"/></a>"
      ]
    },
    {
      "cell_type": "code",
      "metadata": {
        "id": "RZCYwlIXM_VV"
      },
      "source": [
        "\"\"\"\n",
        "\n",
        "column = list(AttribInp.keys())\n",
        "condition = list(AttribInp.values())\n",
        "equal = ['==' for i in condition]\n",
        "query = ' & '.join(f'{i} {j} {repr(k)}' for i, j, k in zip(column, equal, condition))\n",
        "\n",
        "\"\"\""
      ],
      "execution_count": null,
      "outputs": []
    },
    {
      "cell_type": "markdown",
      "metadata": {
        "id": "-7FF3JufOCZN"
      },
      "source": [
        "Nodes for Bayesian network:\n",
        "\n",
        "*   Test Location (Home, Away)\n",
        "*   Aswin Playing (Yes, No)\n",
        "*   Toss (Win, Loss, Draw)\n",
        "*   Batting (1st, 2nd)\n",
        "*   Result (Win, Loss, Draw)\n"
      ]
    },
    {
      "cell_type": "code",
      "metadata": {
        "id": "4gtG4kC3JNfv"
      },
      "source": [
        "\"\"\"\n",
        "from google.colab import drive\n",
        "drive.mount('/content/drive') \"\"\""
      ],
      "execution_count": null,
      "outputs": []
    },
    {
      "cell_type": "markdown",
      "metadata": {
        "id": "uMMKcVdSK1vi"
      },
      "source": [
        "Install Pomogranate module"
      ]
    },
    {
      "cell_type": "code",
      "metadata": {
        "id": "ssi6ipTDKF_v"
      },
      "source": [
        "#!pip install pomegranate"
      ],
      "execution_count": null,
      "outputs": []
    },
    {
      "cell_type": "markdown",
      "metadata": {
        "id": "zw0RDnU6K_1u"
      },
      "source": [
        "Importing necessary modules"
      ]
    },
    {
      "cell_type": "code",
      "metadata": {
        "id": "iSyiVgtiJVIa"
      },
      "source": [
        "import pandas as pd\n",
        "import numpy as np\n",
        "import matplotlib.pyplot as plt\n",
        "import seaborn as sns\n",
        "from pomegranate import *\n",
        "\n",
        "sns.set_style('whitegrid')\n",
        "%matplotlib inline\n"
      ],
      "execution_count": 240,
      "outputs": []
    },
    {
      "cell_type": "markdown",
      "metadata": {
        "id": "BxxTDuphKyqB"
      },
      "source": [
        "Load input data file and get the file info & attributes"
      ]
    },
    {
      "cell_type": "code",
      "metadata": {
        "id": "spCggFbgKwYP",
        "outputId": "2423e3f7-4e89-42db-941d-4b9f38f180f0",
        "colab": {
          "base_uri": "https://localhost:8080/",
          "height": 340
        }
      },
      "source": [
        "AswnIndTestData = pd.read_excel('/content/drive/My Drive/ColabDataInputs/India_Test_Stats.xlsx',sheet_name='Sheet1')\n",
        "print('The shape of the data is ',AswnIndTestData.shape)\n",
        "print('The details of the data set are \\n')\n",
        "print(AswnIndTestData.info())"
      ],
      "execution_count": 241,
      "outputs": [
        {
          "output_type": "stream",
          "text": [
            "The shape of the data is  (85, 8)\n",
            "The details of the data set are \n",
            "\n",
            "<class 'pandas.core.frame.DataFrame'>\n",
            "RangeIndex: 85 entries, 0 to 84\n",
            "Data columns (total 8 columns):\n",
            " #   Column      Non-Null Count  Dtype         \n",
            "---  ------      --------------  -----         \n",
            " 0   Ashwin      85 non-null     object        \n",
            " 1   Result      85 non-null     object        \n",
            " 2   Margin      85 non-null     object        \n",
            " 3   Toss        85 non-null     object        \n",
            " 4   Bat         85 non-null     object        \n",
            " 5   Opposition  85 non-null     object        \n",
            " 6   Location    85 non-null     object        \n",
            " 7   Start Date  85 non-null     datetime64[ns]\n",
            "dtypes: datetime64[ns](1), object(7)\n",
            "memory usage: 5.4+ KB\n",
            "None\n"
          ],
          "name": "stdout"
        }
      ]
    },
    {
      "cell_type": "code",
      "metadata": {
        "id": "881xoJPb-9ra",
        "outputId": "d6708ef4-4879-4814-e513-fb9734258dae",
        "colab": {
          "base_uri": "https://localhost:8080/",
          "height": 204
        }
      },
      "source": [
        "AswnIndTestData[AswnIndTestData.Opposition == 'v Australia'].head()"
      ],
      "execution_count": 242,
      "outputs": [
        {
          "output_type": "execute_result",
          "data": {
            "text/html": [
              "<div>\n",
              "<style scoped>\n",
              "    .dataframe tbody tr th:only-of-type {\n",
              "        vertical-align: middle;\n",
              "    }\n",
              "\n",
              "    .dataframe tbody tr th {\n",
              "        vertical-align: top;\n",
              "    }\n",
              "\n",
              "    .dataframe thead th {\n",
              "        text-align: right;\n",
              "    }\n",
              "</style>\n",
              "<table border=\"1\" class=\"dataframe\">\n",
              "  <thead>\n",
              "    <tr style=\"text-align: right;\">\n",
              "      <th></th>\n",
              "      <th>Ashwin</th>\n",
              "      <th>Result</th>\n",
              "      <th>Margin</th>\n",
              "      <th>Toss</th>\n",
              "      <th>Bat</th>\n",
              "      <th>Opposition</th>\n",
              "      <th>Location</th>\n",
              "      <th>Start Date</th>\n",
              "    </tr>\n",
              "  </thead>\n",
              "  <tbody>\n",
              "    <tr>\n",
              "      <th>3</th>\n",
              "      <td>Y</td>\n",
              "      <td>lost</td>\n",
              "      <td>122 runs</td>\n",
              "      <td>lost</td>\n",
              "      <td>2nd</td>\n",
              "      <td>v Australia</td>\n",
              "      <td>Away</td>\n",
              "      <td>2011-12-26</td>\n",
              "    </tr>\n",
              "    <tr>\n",
              "      <th>4</th>\n",
              "      <td>Y</td>\n",
              "      <td>lost</td>\n",
              "      <td>inns &amp; 68 runs</td>\n",
              "      <td>won</td>\n",
              "      <td>1st</td>\n",
              "      <td>v Australia</td>\n",
              "      <td>Away</td>\n",
              "      <td>2012-01-03</td>\n",
              "    </tr>\n",
              "    <tr>\n",
              "      <th>5</th>\n",
              "      <td>N</td>\n",
              "      <td>lost</td>\n",
              "      <td>inns &amp; 37 runs</td>\n",
              "      <td>lost</td>\n",
              "      <td>1st</td>\n",
              "      <td>v Australia</td>\n",
              "      <td>Away</td>\n",
              "      <td>2012-01-13</td>\n",
              "    </tr>\n",
              "    <tr>\n",
              "      <th>6</th>\n",
              "      <td>Y</td>\n",
              "      <td>lost</td>\n",
              "      <td>298 runs</td>\n",
              "      <td>lost</td>\n",
              "      <td>2nd</td>\n",
              "      <td>v Australia</td>\n",
              "      <td>Away</td>\n",
              "      <td>2012-01-24</td>\n",
              "    </tr>\n",
              "    <tr>\n",
              "      <th>13</th>\n",
              "      <td>Y</td>\n",
              "      <td>won</td>\n",
              "      <td>8 wickets</td>\n",
              "      <td>lost</td>\n",
              "      <td>2nd</td>\n",
              "      <td>v Australia</td>\n",
              "      <td>Home</td>\n",
              "      <td>2013-02-22</td>\n",
              "    </tr>\n",
              "  </tbody>\n",
              "</table>\n",
              "</div>"
            ],
            "text/plain": [
              "   Ashwin Result          Margin  Toss  Bat   Opposition Location Start Date\n",
              "3       Y   lost        122 runs  lost  2nd  v Australia     Away 2011-12-26\n",
              "4       Y   lost  inns & 68 runs   won  1st  v Australia     Away 2012-01-03\n",
              "5       N   lost  inns & 37 runs  lost  1st  v Australia     Away 2012-01-13\n",
              "6       Y   lost        298 runs  lost  2nd  v Australia     Away 2012-01-24\n",
              "13      Y    won       8 wickets  lost  2nd  v Australia     Home 2013-02-22"
            ]
          },
          "metadata": {
            "tags": []
          },
          "execution_count": 242
        }
      ]
    },
    {
      "cell_type": "markdown",
      "metadata": {
        "id": "wL3zKT3kPqSz"
      },
      "source": [
        "Changing the attribute names in the below fashion\n",
        "\n",
        "*   Test Location - TLoc\n",
        "*   Aswin Playing (Yes, No) - Aswin\n",
        "*   Toss (Win, Loss, Draw) - Toss\n",
        "*   Batting (1st, 2nd) - Bat\n",
        "*   Result (Win, Loss, Draw) - Result"
      ]
    },
    {
      "cell_type": "code",
      "metadata": {
        "id": "n8si3jcdrXf1",
        "outputId": "243861dd-d20d-4d4d-ef35-a1dcc6e02e22",
        "colab": {
          "base_uri": "https://localhost:8080/",
          "height": 86
        }
      },
      "source": [
        "AttribChose = ['Ashwin', 'Result', 'Location', 'Toss', 'Bat']\n",
        "AttribVals = {i:list(AswnIndTestData[i].unique()) for i in AttribChose}\n",
        "AttribInp = {}\n",
        "\n",
        "def getInput(attribval,attrib):\n",
        "  print('**************************************************************\\n')\n",
        "  print('Choose any of the values {} for {}'.format(attribval,attrib))\n",
        "  InputVal = input('')\n",
        "  return InputVal\n",
        "\n",
        "\"\"\"\n",
        "for i in range(len(AttribChose)):\n",
        "  a = getInput(AttribVals[AttribChose[i]],AttribChose[i])\n",
        "  while a not in AttribVals[AttribChose[i]]:\n",
        "    print('You have entered an incorrect option. \\nYou have entered {}.\\nPlease check case and spelling and try againui'.format(a))\n",
        "    a = getInput(AttribVals[AttribChose[i]],AttribChose[i])\n",
        "  AttribInp[AttribChose[i]] = a\n",
        "\n",
        "\"\"\""
      ],
      "execution_count": 243,
      "outputs": [
        {
          "output_type": "execute_result",
          "data": {
            "application/vnd.google.colaboratory.intrinsic+json": {
              "type": "string"
            },
            "text/plain": [
              "\"\\nfor i in range(len(AttribChose)):\\n  a = getInput(AttribVals[AttribChose[i]],AttribChose[i])\\n  while a not in AttribVals[AttribChose[i]]:\\n    print('You have entered an incorrect option. \\nYou have entered {}.\\nPlease check case and spelling and try againui'.format(a))\\n    a = getInput(AttribVals[AttribChose[i]],AttribChose[i])\\n  AttribInp[AttribChose[i]] = a\\n\\n\""
            ]
          },
          "metadata": {
            "tags": []
          },
          "execution_count": 243
        }
      ]
    },
    {
      "cell_type": "code",
      "metadata": {
        "id": "AHKvWx7YzZ52"
      },
      "source": [
        "def getDiscreteProba(df,attrib):\n",
        "  attribcount = df[attrib].value_counts().to_dict()\n",
        "  attribproba = {i:attribcount[i]/sum(attribcount.values()) for i in attribcount.keys()}\n",
        "  return attribcount, attribproba\n",
        "\n",
        "\n",
        "def filterDF( InputVals , df):\n",
        "  column = list(InputVals.keys())\n",
        "  condition = list(InputVals.values())\n",
        "  equal = ['==' for i in condition]\n",
        "  query = ' & '.join(f'{i} {j} {repr(k)}' for i, j, k in zip(column, equal, condition))\n",
        "  filterdf = df.query(query)\n",
        "  return filterdf\n",
        "\n",
        "def getWinProbab(inputvalues,df):\n",
        "  tempDF = filterDF(inputvalues, df)\n",
        "  if len(tempDF) > 0:\n",
        "    tempDFPvt = pd.pivot_table(tempDF,index=[\"Result\"],values=[list(inputvalues.keys())[0]],aggfunc='count')\n",
        "    tempDFPvt.reset_index(inplace = True)\n",
        "    tempDFPvt.rename(columns={list(inputvalues.keys())[0]:'Count'},inplace = True)\n",
        "    WinProbab = {i:int(tempDFPvt[tempDFPvt.Result == i].Count)/sum(list(tempDFPvt['Count'])) for i in list(tempDFPvt['Result'])}\n",
        "    #print(WinProbab)\n",
        "    try:\n",
        "      condproblist = list(inputvalues.keys())\n",
        "      condproblist.append(WinProbab['won'])\n",
        "    except:\n",
        "      condproblist = list(inputvalues.keys())\n",
        "      condproblist.append(float(0))\n",
        "      #print(condproblist)\n",
        "  else:\n",
        "    print('The condition is invalid. No values matching the condition ',(inputvalues))\n",
        "    condproblist = list(inputvalues.keys())\n",
        "    condproblist.append(float(0)) \n",
        "    WinProbab,tempDFPvt = {'draw': 0.0, 'lost': 0.0, 'won': 0.0},pd.DataFrame()\n",
        "  return condproblist,WinProbab,tempDFPvt"
      ],
      "execution_count": 244,
      "outputs": []
    },
    {
      "cell_type": "code",
      "metadata": {
        "id": "lRCdkkkTzKs4"
      },
      "source": [
        "AttribMap = {'TLoc':'Location','Aswin':'Ashwin','Toss':'Toss','Bat':'Bat','Result':'Result'}\n",
        "DiscreteProbDict = {list(AttribMap.keys())[i]:getDiscreteProba(AswnIndTestData,list(AttribMap.values())[i])[1] for i in range(len(list(AttribMap.values())))}"
      ],
      "execution_count": 245,
      "outputs": []
    },
    {
      "cell_type": "code",
      "metadata": {
        "id": "2wJQiNYRatzq"
      },
      "source": [
        "df = AswnIndTestData"
      ],
      "execution_count": 246,
      "outputs": []
    },
    {
      "cell_type": "code",
      "metadata": {
        "id": "0XhVPQt6rWT5",
        "outputId": "f154a510-efea-4c47-a0b5-00888ce3adc1",
        "colab": {
          "base_uri": "https://localhost:8080/",
          "height": 34
        }
      },
      "source": [
        "combs[0]"
      ],
      "execution_count": 167,
      "outputs": [
        {
          "output_type": "execute_result",
          "data": {
            "text/plain": [
              "{'Ashwin': 'Y', 'Bat': '2nd', 'Location': 'Home', 'Toss': 'lost'}"
            ]
          },
          "metadata": {
            "tags": []
          },
          "execution_count": 167
        }
      ]
    },
    {
      "cell_type": "code",
      "metadata": {
        "id": "eQsYhyrhVaRl",
        "outputId": "5a356d2f-020a-46cd-960d-3b0b03f092d8",
        "colab": {
          "base_uri": "https://localhost:8080/",
          "height": 122
        }
      },
      "source": [
        "keys = ['Ashwin', 'Location', 'Toss', 'Bat']\n",
        "combs = []\n",
        "for i in AttribVals[keys[0]]:\n",
        "  a = {}\n",
        "  a[keys[0]] = i\n",
        "  for j in AttribVals[keys[1]]:\n",
        "    b = {}\n",
        "    b[keys[1]] = j\n",
        "    b.update(a)\n",
        "    for k in AttribVals[keys[2]]:\n",
        "      c = {}\n",
        "      c[keys[2]] = k\n",
        "      c.update(b)\n",
        "      for l in AttribVals[keys[3]]:\n",
        "        d = {}\n",
        "        d[keys[3]] = l\n",
        "        d.update(c)\n",
        "        combs.append(d)\n",
        "\n",
        "\n",
        "Condprob = []\n",
        "for i in combs:\n",
        "  #print(i)\n",
        "  #print(getWinProbab(i, AswnIndTestData)[0])\n",
        "  Condprob.append(getWinProbab(i, df)[0])"
      ],
      "execution_count": 283,
      "outputs": [
        {
          "output_type": "stream",
          "text": [
            "The condition is invalid. No values matching the condition  {'Bat': '2nd', 'Toss': 'won', 'Location': 'Away', 'Ashwin': 'Y'}\n",
            "The condition is invalid. No values matching the condition  {'Bat': '2nd', 'Toss': 'lost', 'Location': 'Home', 'Ashwin': 'N'}\n",
            "The condition is invalid. No values matching the condition  {'Bat': '1st', 'Toss': 'lost', 'Location': 'Home', 'Ashwin': 'N'}\n",
            "The condition is invalid. No values matching the condition  {'Bat': '2nd', 'Toss': 'won', 'Location': 'Home', 'Ashwin': 'N'}\n",
            "The condition is invalid. No values matching the condition  {'Bat': '1st', 'Toss': 'won', 'Location': 'Home', 'Ashwin': 'N'}\n"
          ],
          "name": "stdout"
        }
      ]
    },
    {
      "cell_type": "code",
      "metadata": {
        "id": "kaTy8WSZ2pYY"
      },
      "source": [
        "TLoc = DiscreteDistribution( DiscreteProbDict['TLoc'] )\n",
        "Aswin = DiscreteDistribution( DiscreteProbDict['Aswin'])\n",
        "Toss = DiscreteDistribution( DiscreteProbDict['Toss'])\n",
        "Bat = DiscreteDistribution( DiscreteProbDict['Bat'])\n",
        "Result = ConditionalProbabilityTable(Condprob,[Bat])"
      ],
      "execution_count": 306,
      "outputs": []
    },
    {
      "cell_type": "code",
      "metadata": {
        "id": "ZrmfnAuIuGSK",
        "outputId": "f132f98f-0c9b-44aa-96be-983a799b2c2f",
        "colab": {
          "base_uri": "https://localhost:8080/",
          "height": 34
        }
      },
      "source": [
        "DiscreteProbDict['TLoc']"
      ],
      "execution_count": 285,
      "outputs": [
        {
          "output_type": "execute_result",
          "data": {
            "text/plain": [
              "{'Away': 0.49411764705882355, 'Home': 0.5058823529411764}"
            ]
          },
          "metadata": {
            "tags": []
          },
          "execution_count": 285
        }
      ]
    },
    {
      "cell_type": "code",
      "metadata": {
        "id": "byY9gNrdhuBH"
      },
      "source": [
        "s1 = Node(TLoc, name=\"Location\")\n",
        "s2 = Node(Aswin, name=\"Ashwin Playing\")\n",
        "s3 = Node(Toss, name=\"Toss\")\n",
        "s4 = Node(Bat, name=\"Batting\")\n",
        "s5 = Node(Result, name=\"Result\")"
      ],
      "execution_count": 307,
      "outputs": []
    },
    {
      "cell_type": "code",
      "metadata": {
        "id": "NCN9WLn7iAGO"
      },
      "source": [
        "model = BayesianNetwork(\"Winning probablity of Aswin Playing in the game\")\n",
        "model.add_states(s1, s2, s3, s4, s5)\n",
        "model.add_edge(s1, s2)\n",
        "model.add_edge(s2, s3)\n",
        "model.add_edge(s3, s4)\n",
        "model.add_edge(s4, s5)\n"
      ],
      "execution_count": 308,
      "outputs": []
    },
    {
      "cell_type": "code",
      "metadata": {
        "id": "3J_LqU4DAVbQ",
        "outputId": "c28b3437-0991-4f19-af71-6f7d8d37be56",
        "colab": {
          "base_uri": "https://localhost:8080/",
          "height": 289
        }
      },
      "source": [
        "combs"
      ],
      "execution_count": 290,
      "outputs": [
        {
          "output_type": "execute_result",
          "data": {
            "text/plain": [
              "[{'Ashwin': 'Y', 'Bat': '2nd', 'Location': 'Home', 'Toss': 'lost'},\n",
              " {'Ashwin': 'Y', 'Bat': '1st', 'Location': 'Home', 'Toss': 'lost'},\n",
              " {'Ashwin': 'Y', 'Bat': '2nd', 'Location': 'Home', 'Toss': 'won'},\n",
              " {'Ashwin': 'Y', 'Bat': '1st', 'Location': 'Home', 'Toss': 'won'},\n",
              " {'Ashwin': 'Y', 'Bat': '2nd', 'Location': 'Away', 'Toss': 'lost'},\n",
              " {'Ashwin': 'Y', 'Bat': '1st', 'Location': 'Away', 'Toss': 'lost'},\n",
              " {'Ashwin': 'Y', 'Bat': '2nd', 'Location': 'Away', 'Toss': 'won'},\n",
              " {'Ashwin': 'Y', 'Bat': '1st', 'Location': 'Away', 'Toss': 'won'},\n",
              " {'Ashwin': 'N', 'Bat': '2nd', 'Location': 'Home', 'Toss': 'lost'},\n",
              " {'Ashwin': 'N', 'Bat': '1st', 'Location': 'Home', 'Toss': 'lost'},\n",
              " {'Ashwin': 'N', 'Bat': '2nd', 'Location': 'Home', 'Toss': 'won'},\n",
              " {'Ashwin': 'N', 'Bat': '1st', 'Location': 'Home', 'Toss': 'won'},\n",
              " {'Ashwin': 'N', 'Bat': '2nd', 'Location': 'Away', 'Toss': 'lost'},\n",
              " {'Ashwin': 'N', 'Bat': '1st', 'Location': 'Away', 'Toss': 'lost'},\n",
              " {'Ashwin': 'N', 'Bat': '2nd', 'Location': 'Away', 'Toss': 'won'},\n",
              " {'Ashwin': 'N', 'Bat': '1st', 'Location': 'Away', 'Toss': 'won'}]"
            ]
          },
          "metadata": {
            "tags": []
          },
          "execution_count": 290
        }
      ]
    },
    {
      "cell_type": "code",
      "metadata": {
        "id": "-RaXczTVr-XS",
        "outputId": "34816e3f-bf26-437f-9a3b-8c1495364aaf",
        "colab": {
          "base_uri": "https://localhost:8080/",
          "height": 238
        }
      },
      "source": [
        "model.bake()"
      ],
      "execution_count": 309,
      "outputs": [
        {
          "output_type": "error",
          "ename": "IndexError",
          "evalue": "ignored",
          "traceback": [
            "\u001b[0;31m---------------------------------------------------------------------------\u001b[0m",
            "\u001b[0;31mIndexError\u001b[0m                                Traceback (most recent call last)",
            "\u001b[0;32m<ipython-input-309-cac6a8d0d4df>\u001b[0m in \u001b[0;36m<module>\u001b[0;34m()\u001b[0m\n\u001b[0;32m----> 1\u001b[0;31m \u001b[0mmodel\u001b[0m\u001b[0;34m.\u001b[0m\u001b[0mbake\u001b[0m\u001b[0;34m(\u001b[0m\u001b[0;34m)\u001b[0m\u001b[0;34m\u001b[0m\u001b[0;34m\u001b[0m\u001b[0m\n\u001b[0m",
            "\u001b[0;32m/usr/local/lib/python3.6/dist-packages/pomegranate/BayesianNetwork.pyx\u001b[0m in \u001b[0;36mpomegranate.BayesianNetwork.BayesianNetwork.bake\u001b[0;34m()\u001b[0m\n",
            "\u001b[0;32m/usr/local/lib/python3.6/dist-packages/pomegranate/distributions/ConditionalProbabilityTable.pyx\u001b[0m in \u001b[0;36mpomegranate.distributions.ConditionalProbabilityTable.ConditionalProbabilityTable.joint\u001b[0;34m()\u001b[0m\n",
            "\u001b[0;31mIndexError\u001b[0m: list index out of range"
          ]
        }
      ]
    }
  ]
}